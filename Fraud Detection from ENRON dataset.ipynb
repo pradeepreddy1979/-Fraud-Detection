{
 "cells": [
  {
   "cell_type": "markdown",
   "metadata": {},
   "source": [
    "# Identifying Fraud at Enron Using Emails and Financial Data"
   ]
  },
  {
   "cell_type": "markdown",
   "metadata": {},
   "source": [
    "## Project Introduction"
   ]
  },
  {
   "cell_type": "markdown",
   "metadata": {},
   "source": [
    "In 2000, Enron was one of the largest companies in the United States. By 2002, it had collapsed into bankruptcy due to widespread corporate fraud. In the resulting Federal investigation, there was a significant amount of typically confidential information entered into public record, including tens of thousands of emails and detailed financial data for top executives.\n",
    "For this project, predictive models were built using scikit learn, numpy, and pandas modules in Python. The target of the predictions were persons-of-interest (POI’s) who were ‘individuals who were indicted, reached a settlement, or plea deal with the government, or testified in exchange for prosecution immunity.’ Financial compensation data and aggregate email statistics from the Enron Corpus were used as features for prediction.\n",
    "\n",
    "The goal of this project is to build a prediction model to identify persons-of-interest (POI’s.)"
   ]
  },
  {
   "cell_type": "markdown",
   "metadata": {},
   "source": [
    "### Outline:"
   ]
  },
  {
   "cell_type": "markdown",
   "metadata": {},
   "source": [
    "- [Understanding the Dataset](#lesson_1)\n",
    "- [Developing a \"Predictive Theory\"](#lesson_2)\n",
    "- [**PROJECT 1**: Performing Data Analysis of the Enron Dataset](#project_1)"
   ]
  },
  {
   "cell_type": "markdown",
   "metadata": {},
   "source": [
    "- [Applying Regression](#lesson_2)\n",
    "- [**PROJECT 2**: Outlier Investigation](#project_2)"
   ]
  },
  {
   "cell_type": "markdown",
   "metadata": {},
   "source": [
    "- [Optimize Feature Selection/Engineering](#lesson_3)\n",
    "- [**PROJECT 3**: Creating New Features](#project_3)"
   ]
  },
  {
   "cell_type": "markdown",
   "metadata": {},
   "source": [
    "- [Algorithms selection, Comparing Classifiers and Creating Pipelines](#lesson_5)\n",
    "- [Creating pipelines and checking scores for the best Algorithm](#lesson_6)\n",
    "- [**PROJECT 4**: Algorithm Selection and parameters Tuning](#project_4)"
   ]
  },
  {
   "cell_type": "markdown",
   "metadata": {},
   "source": [
    "- [Validate and Evaluate](#lesson_11)\n",
    "- [Dumping the classifier, dataset, and features_list for checking](#lesson_11)\n",
    "- [**PROJECT 5**: Cheking the Scores via various Evaluation scores](#project_5)"
   ]
  },
  {
   "cell_type": "markdown",
   "metadata": {},
   "source": [
    "**Importing Necessary Libraries**"
   ]
  },
  {
   "cell_type": "code",
   "execution_count": 2,
   "metadata": {},
   "outputs": [],
   "source": [
    "import sys\n",
    "import pickle\n",
    "import numpy as np\n",
    "import pandas as pd\n",
    "import sklearn\n",
    "import matplotlib as plt\n",
    "%matplotlib inline"
   ]
  },
  {
   "cell_type": "code",
   "execution_count": 3,
   "metadata": {},
   "outputs": [],
   "source": [
    "import pickle\n",
    "\n",
    "enron_data = pickle.load(open(\"C:/Users/Geekquad/ud120-projects/final_project/final_project_dataset_modified_unix.pkl\", \"rb\"))"
   ]
  },
  {
   "cell_type": "markdown",
   "metadata": {},
   "source": [
    "## Understanding the Dataset"
   ]
  },
  {
   "cell_type": "markdown",
   "metadata": {},
   "source": [
    "### Data Exploration "
   ]
  },
  {
   "cell_type": "markdown",
   "metadata": {},
   "source": [
    "Addresses the most important characteristics of the dataset and uses these characteristics to inform their analysis.\n",
    "\n",
    "**Important characteristics include: **\n",
    "-  Size of the Enron Dataset\n",
    "-  Features in the Enron Dataset \n",
    "-  Finding POI's in the Enron Data\n",
    "-  Queries of the Dataset\n",
    "- Follow the Money\n",
    "- Dealing with Unfilled Features\n",
    "- Missing POI's"
   ]
  },
  {
   "cell_type": "code",
   "execution_count": 4,
   "metadata": {},
   "outputs": [
    {
     "name": "stdout",
     "output_type": "stream",
     "text": [
      "Number of people in the Enron dataset: 143\n"
     ]
    }
   ],
   "source": [
    "print('Number of people in the Enron dataset: {0}'.format(len(enron_data)))"
   ]
  },
  {
   "cell_type": "code",
   "execution_count": 5,
   "metadata": {
    "scrolled": true
   },
   "outputs": [
    {
     "name": "stdout",
     "output_type": "stream",
     "text": [
      "0          METTS MARK\n",
      "1       BAXTER JOHN C\n",
      "2      ELLIOTT STEVEN\n",
      "3    CORDES WILLIAM R\n",
      "4      HANNON KEVIN P\n",
      "dtype: object\n"
     ]
    },
    {
     "data": {
      "text/plain": [
       "<bound method NDFrame.head of        bonus deferral_payments deferred_income director_fees  \\\n",
       "0     600000               NaN             NaN           NaN   \n",
       "1    1200000           1295738        -1386055           NaN   \n",
       "2     350000               NaN         -400729           NaN   \n",
       "3        NaN               NaN             NaN           NaN   \n",
       "4    1500000               NaN        -3117011           NaN   \n",
       "5     325000               NaN             NaN           NaN   \n",
       "6        NaN           1848227             NaN           NaN   \n",
       "7    2600000               NaN             NaN           NaN   \n",
       "8    1150000           2157527         -934484           NaN   \n",
       "9     400000           1130036          -33333           NaN   \n",
       "10       NaN           2964506             NaN           NaN   \n",
       "11       NaN            774401             NaN           NaN   \n",
       "12    850000               NaN             NaN           NaN   \n",
       "13    700000               NaN             NaN           NaN   \n",
       "14       NaN            504610             NaN           NaN   \n",
       "15       NaN               NaN             NaN           NaN   \n",
       "16   1200000             27610         -144062           NaN   \n",
       "17   1100000            842924         -719000           NaN   \n",
       "18    250000               NaN             NaN           NaN   \n",
       "19       NaN               NaN          -10800           NaN   \n",
       "20       NaN             53625             NaN           NaN   \n",
       "21    850000               NaN             NaN           NaN   \n",
       "22   3100000               NaN             NaN           NaN   \n",
       "23       NaN               NaN          -98784         98784   \n",
       "24       NaN           -102500             NaN          3285   \n",
       "25   2000000               NaN             NaN           NaN   \n",
       "26       NaN               NaN             NaN           NaN   \n",
       "27    250000               NaN         -485813           NaN   \n",
       "28       NaN               NaN          -36666         36666   \n",
       "29   1000000               NaN             NaN           NaN   \n",
       "..       ...               ...             ...           ...   \n",
       "113   300000               NaN             NaN           NaN   \n",
       "114      NaN               NaN             NaN        137864   \n",
       "115   300000               NaN         -159792           NaN   \n",
       "116   500000               NaN             NaN           NaN   \n",
       "117      NaN               NaN             NaN           NaN   \n",
       "118   400000               NaN             NaN           NaN   \n",
       "119   850000               NaN             NaN           NaN   \n",
       "120    70000               NaN             NaN           NaN   \n",
       "121      NaN               NaN             NaN           NaN   \n",
       "122      NaN             10259             NaN           NaN   \n",
       "123   600000               NaN             NaN           NaN   \n",
       "124   800000               NaN        -1284000           NaN   \n",
       "125  2000000           6426990        -3367011           NaN   \n",
       "126  1000000               NaN             NaN           NaN   \n",
       "127      NaN               NaN             NaN           NaN   \n",
       "128   400000            260455         -201641           NaN   \n",
       "129      NaN               NaN             NaN           NaN   \n",
       "130      NaN             50591             NaN           NaN   \n",
       "131      NaN               NaN             NaN           NaN   \n",
       "132   700000               NaN             NaN           NaN   \n",
       "133      NaN               NaN         -121284        125034   \n",
       "134      NaN               NaN             NaN           NaN   \n",
       "135   300000               NaN         -575000           NaN   \n",
       "136      NaN             85430             NaN           NaN   \n",
       "137   900000            649584         -694862           NaN   \n",
       "138      NaN               NaN             NaN        119292   \n",
       "139  1000000               NaN         -235000           NaN   \n",
       "140   600000            227449             NaN           NaN   \n",
       "141   800000               NaN         -300000           NaN   \n",
       "142   600000               NaN             NaN           NaN   \n",
       "\n",
       "                   email_address exercised_stock_options expenses  \\\n",
       "0           mark.metts@enron.com                     NaN    94299   \n",
       "1                            NaN                 6680544    11200   \n",
       "2       steven.elliott@enron.com                 4890344    78552   \n",
       "3          bill.cordes@enron.com                  651850      NaN   \n",
       "4         kevin.hannon@enron.com                 5538001    34039   \n",
       "5    kristina.mordaunt@enron.com                     NaN    35018   \n",
       "6       rockford.meyer@enron.com                  493489      NaN   \n",
       "7      jeffrey.mcmahon@enron.com                 1104054   137108   \n",
       "8        mark.haedicke@enron.com                  608750    76169   \n",
       "9           greg.piper@enron.com                  880290    43057   \n",
       "10       gene.humphrey@enron.com                 2282768     4994   \n",
       "11                           NaN                     NaN      NaN   \n",
       "12     jeremy.blachman@enron.com                  765313    84208   \n",
       "13         marty.sunde@enron.com                     NaN      NaN   \n",
       "14          dana.gibbs@enron.com                 2218275      NaN   \n",
       "15                           NaN                  372205      NaN   \n",
       "16         wes.colwell@enron.com                     NaN    16514   \n",
       "17           s..muller@enron.com                 1056320      NaN   \n",
       "18    charlene.jackson@enron.com                  185063    10181   \n",
       "19       dick.westfahl@enron.com                     NaN    51870   \n",
       "20                           NaN                 1030329    33785   \n",
       "21           rob.walls@enron.com                 4346544    50936   \n",
       "22      louise.kitchen@enron.com                   81042     5774   \n",
       "23                           NaN                     NaN      NaN   \n",
       "24                           NaN                    3285      NaN   \n",
       "25    jeffrey.shankman@enron.com                 1441898   178979   \n",
       "26       john.wodraska@enron.com                     NaN      NaN   \n",
       "27     rick.bergsieker@enron.com                     NaN    59175   \n",
       "28                           NaN                     NaN   228656   \n",
       "29       philippe.bibi@enron.com                 1465734    38559   \n",
       "..                           ...                     ...      ...   \n",
       "113     mark.pickering@enron.com                   28798    31653   \n",
       "114   sanjay.bhatnagar@enron.com                 2604490      NaN   \n",
       "115     rebecca.carter@enron.com                     NaN      NaN   \n",
       "116      john.buchanan@enron.com                  825464      600   \n",
       "117                          NaN                  192758    55097   \n",
       "118       julia.murray@enron.com                  400478    57580   \n",
       "119      kevin.garland@enron.com                  636246    48405   \n",
       "120       keith.dodson@enron.com                     NaN    28164   \n",
       "121       scott.yeager@enron.com                 8308552    53947   \n",
       "122          joe.hirko@enron.com                30766064    77978   \n",
       "123     janet.dietrich@enron.com                 1550019     3475   \n",
       "124      james.derrick@enron.com                 8831913    51124   \n",
       "125       mark.frevert@enron.com                10433518    86987   \n",
       "126            lou.pai@enron.com                15364167    32047   \n",
       "127       rod.hayslett@enron.com                     NaN      NaN   \n",
       "128          frank.bay@enron.com                     NaN   129142   \n",
       "129      danny.mccarty@enron.com                  664375      NaN   \n",
       "130                          NaN                  176378      NaN   \n",
       "131  matthew.scrimshaw@enron.com                  759557      NaN   \n",
       "132        mark.koenig@enron.com                  671737   127017   \n",
       "133                          NaN                     NaN      NaN   \n",
       "134         larry.izzo@enron.com                 2165172    28093   \n",
       "135   elizabeth.tilney@enron.com                  591250      NaN   \n",
       "136          a..martin@enron.com                 2070306     8211   \n",
       "137           rick.buy@enron.com                 2542813      NaN   \n",
       "138                          NaN                     NaN      NaN   \n",
       "139     richard.causey@enron.com                     NaN    30674   \n",
       "140    mitchell.taylor@enron.com                 3181250      NaN   \n",
       "141       jeff.donahue@enron.com                  765920    96268   \n",
       "142         ben.glisan@enron.com                  384728   125978   \n",
       "\n",
       "    from_messages from_poi_to_this_person from_this_person_to_poi  \\\n",
       "0              29                      38                       1   \n",
       "1             NaN                     NaN                     NaN   \n",
       "2             NaN                     NaN                     NaN   \n",
       "3              12                      10                       0   \n",
       "4              32                      32                      21   \n",
       "5             NaN                     NaN                     NaN   \n",
       "6              28                       0                       0   \n",
       "7              48                      58                      26   \n",
       "8            1941                     180                      61   \n",
       "9             222                      61                      48   \n",
       "10             17                      10                      17   \n",
       "11            NaN                     NaN                     NaN   \n",
       "12             14                      25                       2   \n",
       "13             38                      37                      13   \n",
       "14             12                       0                       0   \n",
       "15            NaN                     NaN                     NaN   \n",
       "16             40                     240                      11   \n",
       "17             16                      12                       0   \n",
       "18             56                      25                      19   \n",
       "19            NaN                     NaN                     NaN   \n",
       "20            NaN                     NaN                     NaN   \n",
       "21            146                      17                       0   \n",
       "22           1728                     251                     194   \n",
       "23            NaN                     NaN                     NaN   \n",
       "24            NaN                     NaN                     NaN   \n",
       "25           2681                      94                      83   \n",
       "26            NaN                     NaN                     NaN   \n",
       "27             59                       4                       0   \n",
       "28            NaN                     NaN                     NaN   \n",
       "29             40                      23                       8   \n",
       "..            ...                     ...                     ...   \n",
       "113            67                       7                       0   \n",
       "114            29                       0                       1   \n",
       "115            15                      29                       7   \n",
       "116           125                       0                       0   \n",
       "117           NaN                     NaN                     NaN   \n",
       "118            45                      11                       2   \n",
       "119            44                      10                      27   \n",
       "120            14                      10                       3   \n",
       "121           NaN                     NaN                     NaN   \n",
       "122           NaN                     NaN                     NaN   \n",
       "123            63                     305                      14   \n",
       "124           909                      64                      20   \n",
       "125            21                     242                       6   \n",
       "126           NaN                     NaN                     NaN   \n",
       "127          1061                      35                      38   \n",
       "128           NaN                     NaN                     NaN   \n",
       "129           215                      25                       2   \n",
       "130           NaN                     NaN                     NaN   \n",
       "131           NaN                     NaN                     NaN   \n",
       "132            61                      53                      15   \n",
       "133           NaN                     NaN                     NaN   \n",
       "134            19                      28                       5   \n",
       "135            19                      10                      11   \n",
       "136           230                       8                       0   \n",
       "137          1053                     156                      71   \n",
       "138           NaN                     NaN                     NaN   \n",
       "139            49                      58                      12   \n",
       "140            29                       0                       0   \n",
       "141            22                     188                      11   \n",
       "142            16                      52                       6   \n",
       "\n",
       "           ...        long_term_incentive    other    poi  restricted_stock  \\\n",
       "0          ...                        NaN     1740  False            585062   \n",
       "1          ...                    1586055  2660303  False           3942714   \n",
       "2          ...                        NaN    12961  False           1788391   \n",
       "3          ...                        NaN      NaN  False            386335   \n",
       "4          ...                    1617011    11350   True            853064   \n",
       "5          ...                        NaN     1411  False            208510   \n",
       "6          ...                        NaN      NaN  False            462384   \n",
       "7          ...                     694862   297353  False            558801   \n",
       "8          ...                     983346    52382  False            524169   \n",
       "9          ...                        NaN      778  False            409554   \n",
       "10         ...                        NaN      NaN  False               NaN   \n",
       "11         ...                        NaN      NaN  False            463261   \n",
       "12         ...                     831809      272  False            189041   \n",
       "13         ...                     476451   111122  False            698920   \n",
       "14         ...                     461912      NaN  False               NaN   \n",
       "15         ...                        NaN      NaN  False            153686   \n",
       "16         ...                        NaN   101740   True            698242   \n",
       "17         ...                    1725545      947  False            360528   \n",
       "18         ...                        NaN     2435  False            540672   \n",
       "19         ...                     256191   401130  False            384930   \n",
       "20         ...                        NaN      NaN  False               NaN   \n",
       "21         ...                     540751        2  False           1552453   \n",
       "22         ...                        NaN    93925  False            466101   \n",
       "23         ...                        NaN      NaN  False             32460   \n",
       "24         ...                        NaN      NaN  False               NaN   \n",
       "25         ...                     554422     1191  False            630137   \n",
       "26         ...                        NaN   189583  False               NaN   \n",
       "27         ...                     180250   427316  False            659249   \n",
       "28         ...                        NaN      NaN  False               NaN   \n",
       "29         ...                     369721   425688  False            378082   \n",
       "..         ...                        ...      ...    ...               ...   \n",
       "113        ...                        NaN      NaN  False               NaN   \n",
       "114        ...                        NaN   137864  False          -2604490   \n",
       "115        ...                      75000      540  False            307301   \n",
       "116        ...                     304805     1215  False            189041   \n",
       "117        ...                        NaN      NaN  False               NaN   \n",
       "118        ...                     125000      330  False            196983   \n",
       "119        ...                     375304    60814  False            259907   \n",
       "120        ...                        NaN      774  False               NaN   \n",
       "121        ...                        NaN   147950   True           3576206   \n",
       "122        ...                        NaN     2856   True               NaN   \n",
       "123        ...                     556416      473  False            315068   \n",
       "124        ...                     484000     7482  False           1787380   \n",
       "125        ...                    1617011  7427621  False           4188667   \n",
       "126        ...                        NaN  1829457  False           8453763   \n",
       "127        ...                        NaN      NaN  False            346663   \n",
       "128        ...                        NaN       69  False            145796   \n",
       "129        ...                        NaN      NaN  False             94556   \n",
       "130        ...                        NaN      NaN  False               NaN   \n",
       "131        ...                        NaN      NaN  False               NaN   \n",
       "132        ...                     300000   150458   True           1248318   \n",
       "133        ...                        NaN      NaN  False               NaN   \n",
       "134        ...                     312500  1553729  False           3654808   \n",
       "135        ...                     275000   152055  False            576792   \n",
       "136        ...                    5145434  2818454  False               NaN   \n",
       "137        ...                     769862   400572  False            901657   \n",
       "138        ...                        NaN      NaN  False               NaN   \n",
       "139        ...                     350000   307895   True           2502063   \n",
       "140        ...                        NaN      NaN  False            563798   \n",
       "141        ...                        NaN      891  False            315068   \n",
       "142        ...                      71023   200308   True            393818   \n",
       "\n",
       "    restricted_stock_deferred   salary shared_receipt_with_poi to_messages  \\\n",
       "0                         NaN   365788                     702         807   \n",
       "1                         NaN   267102                     NaN         NaN   \n",
       "2                         NaN   170941                     NaN         NaN   \n",
       "3                         NaN      NaN                      58         764   \n",
       "4                         NaN   243293                    1035        1045   \n",
       "5                         NaN   267093                     NaN         NaN   \n",
       "6                         NaN      NaN                      22         232   \n",
       "7                         NaN   370448                    2228        2355   \n",
       "8                     -329825   374125                    1847        4009   \n",
       "9                     -409554   197091                     742        1238   \n",
       "10                        NaN   130724                     119         128   \n",
       "11                     -94556      NaN                     NaN         NaN   \n",
       "12                        NaN   248546                    2326        2475   \n",
       "13                        NaN   257486                    2565        2647   \n",
       "14                        NaN      NaN                      23         169   \n",
       "15                    -153686      NaN                     NaN         NaN   \n",
       "16                        NaN   288542                    1132        1758   \n",
       "17                        NaN   251654                     114         136   \n",
       "18                        NaN   288558                     117         258   \n",
       "19                        NaN    63744                     NaN         NaN   \n",
       "20                        NaN      NaN                     NaN         NaN   \n",
       "21                        NaN   357091                     215         671   \n",
       "22                        NaN   271442                    3669        8305   \n",
       "23                     -32460      NaN                     NaN         NaN   \n",
       "24                      44093      NaN                     NaN         NaN   \n",
       "25                        NaN   304110                    1730        3221   \n",
       "26                        NaN      NaN                     NaN         NaN   \n",
       "27                        NaN   187922                     233         383   \n",
       "28                        NaN      NaN                     NaN         NaN   \n",
       "29                        NaN   213625                    1336        1607   \n",
       "..                        ...      ...                     ...         ...   \n",
       "113                       NaN   655037                     728         898   \n",
       "114                  15456290      NaN                     463         523   \n",
       "115                   -307301   261809                     196         312   \n",
       "116                       NaN   248017                      23        1088   \n",
       "117                       NaN      NaN                     NaN         NaN   \n",
       "118                       NaN   229284                     395        2192   \n",
       "119                       NaN   231946                     178         209   \n",
       "120                       NaN   221003                     114         176   \n",
       "121                       NaN   158403                     NaN         NaN   \n",
       "122                       NaN      NaN                     NaN         NaN   \n",
       "123                       NaN   250100                    1902        2572   \n",
       "124                  -1787380   492375                    1401        2181   \n",
       "125                       NaN  1060932                    2979        3275   \n",
       "126                       NaN   261879                     NaN         NaN   \n",
       "127                       NaN      NaN                     571        2649   \n",
       "128                    -82782   239671                     NaN         NaN   \n",
       "129                       NaN      NaN                     508        1433   \n",
       "130                       NaN      NaN                     NaN         NaN   \n",
       "131                       NaN      NaN                     NaN         NaN   \n",
       "132                       NaN   309946                    2271        2374   \n",
       "133                       NaN      NaN                     NaN         NaN   \n",
       "134                       NaN    85274                     437         496   \n",
       "135                       NaN   247338                     379         460   \n",
       "136                       NaN   349487                     477        1522   \n",
       "137                       NaN   330546                    2333        3523   \n",
       "138                       NaN      NaN                     NaN         NaN   \n",
       "139                       NaN   415189                    1585        1892   \n",
       "140                       NaN   265214                     300         533   \n",
       "141                       NaN   278601                     772         865   \n",
       "142                       NaN   274975                     874         873   \n",
       "\n",
       "    total_payments total_stock_value  \n",
       "0          1061827            585062  \n",
       "1          5634343          10623258  \n",
       "2           211725           6678735  \n",
       "3              NaN           1038185  \n",
       "4           288682           6391065  \n",
       "5           628522            208510  \n",
       "6          1848227            955873  \n",
       "7          4099771           1662855  \n",
       "8          3859065            803094  \n",
       "9          1737629            880290  \n",
       "10         3100224           2282768  \n",
       "11          774401            368705  \n",
       "12         2014835            954354  \n",
       "13         1545059            698920  \n",
       "14          966522           2218275  \n",
       "15             NaN            372205  \n",
       "16         1490344            698242  \n",
       "17         3202070           1416848  \n",
       "18          551174            725735  \n",
       "19          762135            384930  \n",
       "20           87410           1030329  \n",
       "21         1798780           5898997  \n",
       "22         3471141            547143  \n",
       "23             NaN               NaN  \n",
       "24          102500            -44093  \n",
       "25         3038702           2072035  \n",
       "26          189583               NaN  \n",
       "27          618850            659249  \n",
       "28          228656               NaN  \n",
       "29         2047593           1843816  \n",
       "..             ...               ...  \n",
       "113        1386690             28798  \n",
       "114       15456290               NaN  \n",
       "115         477557               NaN  \n",
       "116        1054637           1014505  \n",
       "117          55097            192758  \n",
       "118         812194            597461  \n",
       "119        1566469            896153  \n",
       "120         319941               NaN  \n",
       "121         360300          11884758  \n",
       "122          91093          30766064  \n",
       "123        1410464           1865087  \n",
       "124         550981           8831913  \n",
       "125       17252530          14622185  \n",
       "126        3123383          23817930  \n",
       "127            NaN            346663  \n",
       "128         827696             63014  \n",
       "129            NaN            758931  \n",
       "130          50591            176378  \n",
       "131            NaN            759557  \n",
       "132        1587421           1920055  \n",
       "133           3750               NaN  \n",
       "134        1979596           5819980  \n",
       "135         399393           1168042  \n",
       "136        8407016           2070306  \n",
       "137        2355702           3444470  \n",
       "138         119292               NaN  \n",
       "139        1868758           2502063  \n",
       "140        1092663           3745048  \n",
       "141         875760           1080988  \n",
       "142        1272284            778546  \n",
       "\n",
       "[143 rows x 21 columns]>"
      ]
     },
     "execution_count": 5,
     "metadata": {},
     "output_type": "execute_result"
    }
   ],
   "source": [
    "\"\"\"Change data dictionary to pandas DataFrame\"\"\"\n",
    "df = pd.DataFrame.from_records(list(enron_data.values()))\n",
    "persons= pd.Series(list(enron_data.keys()))\n",
    "print(persons.head())\n",
    "df.head"
   ]
  },
  {
   "cell_type": "code",
   "execution_count": 6,
   "metadata": {},
   "outputs": [
    {
     "name": "stdout",
     "output_type": "stream",
     "text": [
      "Number of POI's(Person Of Interests): 16\n"
     ]
    }
   ],
   "source": [
    "pois = [x for x, y in enron_data.items() if y['poi']]\n",
    "print('Number of POI\\'s(Person Of Interests): {0}'.format(len(pois)))"
   ]
  },
  {
   "cell_type": "code",
   "execution_count": 7,
   "metadata": {},
   "outputs": [
    {
     "name": "stdout",
     "output_type": "stream",
     "text": [
      "<class 'pandas.core.frame.DataFrame'>\n",
      "RangeIndex: 143 entries, 0 to 142\n",
      "Data columns (total 21 columns):\n",
      "bonus                        143 non-null object\n",
      "deferral_payments            143 non-null object\n",
      "deferred_income              143 non-null object\n",
      "director_fees                143 non-null object\n",
      "email_address                143 non-null object\n",
      "exercised_stock_options      143 non-null object\n",
      "expenses                     143 non-null object\n",
      "from_messages                143 non-null object\n",
      "from_poi_to_this_person      143 non-null object\n",
      "from_this_person_to_poi      143 non-null object\n",
      "loan_advances                143 non-null object\n",
      "long_term_incentive          143 non-null object\n",
      "other                        143 non-null object\n",
      "poi                          143 non-null bool\n",
      "restricted_stock             143 non-null object\n",
      "restricted_stock_deferred    143 non-null object\n",
      "salary                       143 non-null object\n",
      "shared_receipt_with_poi      143 non-null object\n",
      "to_messages                  143 non-null object\n",
      "total_payments               143 non-null object\n",
      "total_stock_value            142 non-null object\n",
      "dtypes: bool(1), object(20)\n",
      "memory usage: 22.6+ KB\n"
     ]
    }
   ],
   "source": [
    "df.shape\n",
    "df.info()"
   ]
  },
  {
   "cell_type": "code",
   "execution_count": 8,
   "metadata": {},
   "outputs": [
    {
     "data": {
      "text/plain": [
       "dict_keys(['METTS MARK', 'BAXTER JOHN C', 'ELLIOTT STEVEN', 'CORDES WILLIAM R', 'HANNON KEVIN P', 'MORDAUNT KRISTINA M', 'MEYER ROCKFORD G', 'MCMAHON JEFFREY', 'HAEDICKE MARK E', 'PIPER GREGORY F', 'HUMPHREY GENE E', 'NOLES JAMES L', 'BLACHMAN JEREMY M', 'SUNDE MARTIN', 'GIBBS DANA R', 'LOWRY CHARLES P', 'COLWELL WESLEY', 'MULLER MARK S', 'JACKSON CHARLENE R', 'WESTFAHL RICHARD K', 'WALTERS GARETH W', 'WALLS JR ROBERT H', 'KITCHEN LOUISE', 'CHAN RONNIE', 'BELFER ROBERT', 'SHANKMAN JEFFREY A', 'WODRASKA JOHN', 'BERGSIEKER RICHARD P', 'URQUHART JOHN A', 'BIBI PHILIPPE A', 'RIEKER PAULA H', 'WHALEY DAVID A', 'BECK SALLY W', 'HAUG DAVID L', 'ECHOLS JOHN B', 'MENDELSOHN JOHN', 'HICKERSON GARY J', 'CLINE KENNETH W', 'LEWIS RICHARD', 'HAYES ROBERT E', 'KOPPER MICHAEL J', 'LEFF DANIEL P', 'LAVORATO JOHN J', 'BERBERIAN DAVID', 'DETMERING TIMOTHY J', 'WAKEHAM JOHN', 'POWERS WILLIAM', 'GOLD JOSEPH', 'BANNANTINE JAMES M', 'DUNCAN JOHN H', 'SHAPIRO RICHARD S', 'SHERRIFF JOHN R', 'SHELBY REX', 'LEMAISTRE CHARLES', 'DEFFNER JOSEPH M', 'KISHKILL JOSEPH G', 'WHALLEY LAWRENCE G', 'MCCONNELL MICHAEL S', 'PIRO JIM', 'DELAINEY DAVID W', 'SULLIVAN-SHAKLOVITZ COLLEEN', 'WROBEL BRUCE', 'LINDHOLM TOD A', 'MEYER JEROME J', 'BUTTS ROBERT H', 'OLSON CINDY K', 'MCDONALD REBECCA', 'CUMBERLAND MICHAEL S', 'GAHN ROBERT S', 'BADUM JAMES P', 'HERMANN ROBERT J', 'FALLON JAMES B', 'GATHMANN WILLIAM D', 'HORTON STANLEY C', 'BOWEN JR RAYMOND M', 'GILLIS JOHN', 'FITZGERALD JAY L', 'MORAN MICHAEL P', 'REDMOND BRIAN L', 'BAZELIDES PHILIP J', 'BELDEN TIMOTHY N', 'DIMICHELE RICHARD G', 'DURAN WILLIAM D', 'THORN TERENCE H', 'FASTOW ANDREW S', 'FOY JOE', 'CALGER CHRISTOPHER F', 'RICE KENNETH D', 'KAMINSKI WINCENTY J', 'LOCKHART EUGENE E', 'COX DAVID', 'OVERDYKE JR JERE C', 'PEREIRA PAULO V. FERRAZ', 'STABLER FRANK', 'BLAKE JR. NORMAN P', 'SHERRICK JEFFREY B', 'PRENTICE JAMES', 'GRAY RODNEY', 'THE TRAVEL AGENCY IN THE PARK', 'UMANOFF ADAM S', 'KEAN STEVEN J', 'FOWLER PEGGY', 'WASAFF GEORGE', 'WHITE JR THOMAS E', 'CHRISTODOULOU DIOMEDES', 'ALLEN PHILLIP K', 'SHARP VICTORIA T', 'JAEDICKE ROBERT', 'WINOKUR JR. HERBERT S', 'BROWN MICHAEL', 'MCCLELLAN GEORGE', 'HUGHES JAMES A', 'REYNOLDS LAWRENCE', 'PICKERING MARK R', 'BHATNAGAR SANJAY', 'CARTER REBECCA C', 'BUCHANAN HAROLD G', 'YEAP SOON', 'MURRAY JULIA H', 'GARLAND C KEVIN', 'DODSON KEITH', 'YEAGER F SCOTT', 'HIRKO JOSEPH', 'DIETRICH JANET R', 'DERRICK JR. JAMES V', 'FREVERT MARK A', 'PAI LOU L', 'HAYSLETT RODERICK J', 'BAY FRANKLIN R', 'MCCARTY DANNY J', 'FUGH JOHN L', 'SCRIMSHAW MATTHEW', 'KOENIG MARK E', 'SAVAGE FRANK', 'IZZO LAWRENCE L', 'TILNEY ELIZABETH A', 'MARTIN AMANDA K', 'BUY RICHARD B', 'GRAMM WENDY L', 'CAUSEY RICHARD A', 'TAYLOR MITCHELL S', 'DONAHUE JR JEFFREY M', 'GLISAN JR BEN F'])"
      ]
     },
     "execution_count": 8,
     "metadata": {},
     "output_type": "execute_result"
    }
   ],
   "source": [
    "\"\"\" Nmaes of all the users in the dataset \"\"\"\n",
    "enron_data.keys()"
   ]
  },
  {
   "cell_type": "code",
   "execution_count": 9,
   "metadata": {},
   "outputs": [
    {
     "data": {
      "text/plain": [
       "{'bonus': 'NaN',\n",
       " 'deferral_payments': 564348,\n",
       " 'deferred_income': 'NaN',\n",
       " 'director_fees': 'NaN',\n",
       " 'email_address': 'james.prentice@enron.com',\n",
       " 'exercised_stock_options': 886231,\n",
       " 'expenses': 'NaN',\n",
       " 'from_messages': 'NaN',\n",
       " 'from_poi_to_this_person': 'NaN',\n",
       " 'from_this_person_to_poi': 'NaN',\n",
       " 'loan_advances': 'NaN',\n",
       " 'long_term_incentive': 'NaN',\n",
       " 'other': 'NaN',\n",
       " 'poi': False,\n",
       " 'restricted_stock': 208809,\n",
       " 'restricted_stock_deferred': 'NaN',\n",
       " 'salary': 'NaN',\n",
       " 'shared_receipt_with_poi': 'NaN',\n",
       " 'to_messages': 'NaN',\n",
       " 'total_payments': 564348,\n",
       " 'total_stock_value': 1095040}"
      ]
     },
     "execution_count": 9,
     "metadata": {},
     "output_type": "execute_result"
    }
   ],
   "source": [
    "enron_data['PRENTICE JAMES']"
   ]
  },
  {
   "cell_type": "code",
   "execution_count": 10,
   "metadata": {},
   "outputs": [
    {
     "data": {
      "text/plain": [
       "1095040"
      ]
     },
     "execution_count": 10,
     "metadata": {},
     "output_type": "execute_result"
    }
   ],
   "source": [
    "enron_data['PRENTICE JAMES']['total_stock_value']"
   ]
  },
  {
   "cell_type": "code",
   "execution_count": 11,
   "metadata": {},
   "outputs": [
    {
     "data": {
      "text/plain": [
       "11"
      ]
     },
     "execution_count": 11,
     "metadata": {},
     "output_type": "execute_result"
    }
   ],
   "source": [
    "enron_data['COLWELL WESLEY']['from_this_person_to_poi']"
   ]
  },
  {
   "cell_type": "code",
   "execution_count": 12,
   "metadata": {},
   "outputs": [],
   "source": [
    "features_list = ['poi', 'salary', 'to_messages', 'deferral_payments', 'total_payments', \n",
    "                 'loan_advances', 'bonus', 'restricted_stock_deferred', \n",
    "                 'deferred_income', 'total_stock_value', 'expenses', 'from_poi_to_this_person', \n",
    "                 'exercised_stock_options', 'from_messages', 'other', 'from_this_person_to_poi', \n",
    "                 'long_term_incentive', 'shared_receipt_with_poi', 'restricted_stock', 'director_fees'] \n",
    "\n",
    "f = open('C:/Users/Geekquad/ud120-projects/final_project/poi_names.txt', 'r')\n"
   ]
  },
  {
   "cell_type": "code",
   "execution_count": 13,
   "metadata": {},
   "outputs": [
    {
     "name": "stdout",
     "output_type": "stream",
     "text": [
      "Columns: ['bonus', 'deferral_payments', 'deferred_income', 'director_fees', 'email_address', 'exercised_stock_options', 'expenses', 'from_messages', 'from_poi_to_this_person', 'from_this_person_to_poi', 'loan_advances', 'long_term_incentive', 'other', 'poi', 'restricted_stock', 'restricted_stock_deferred', 'salary', 'shared_receipt_with_poi', 'to_messages', 'total_payments', 'total_stock_value']\n",
      "Shape: (143, 21)\n",
      "Number of POI in the dataset: 16\n",
      "Number of non-POI in the dataset: 127\n"
     ]
    }
   ],
   "source": [
    "print('Columns:', list(df.columns.values))\n",
    "print('Shape:', df.shape)\n",
    "print('Number of POI in the dataset:', (df['poi'] == 1).sum())\n",
    "print('Number of non-POI in the dataset:', (df['poi'] == 0).sum())"
   ]
  },
  {
   "cell_type": "code",
   "execution_count": 14,
   "metadata": {},
   "outputs": [
    {
     "name": "stdout",
     "output_type": "stream",
     "text": [
      "bonus                         64\n",
      "deferral_payments            106\n",
      "deferred_income               96\n",
      "director_fees                127\n",
      "email_address                 34\n",
      "exercised_stock_options       44\n",
      "expenses                      51\n",
      "from_messages                 59\n",
      "from_poi_to_this_person       59\n",
      "from_this_person_to_poi       59\n",
      "loan_advances                141\n",
      "long_term_incentive           80\n",
      "other                         53\n",
      "poi                            0\n",
      "restricted_stock              36\n",
      "restricted_stock_deferred    126\n",
      "salary                        51\n",
      "shared_receipt_with_poi       59\n",
      "to_messages                   59\n",
      "total_payments                21\n",
      "total_stock_value             20\n",
      "dtype: int64\n"
     ]
    }
   ],
   "source": [
    "df.replace(to_replace='NaN', value=np.nan, inplace=True)\n",
    "print(df.isnull().sum())"
   ]
  },
  {
   "cell_type": "markdown",
   "metadata": {},
   "source": [
    "\n",
    "There were 143 total records and 16 POIs in the original dataset.\n",
    "\n",
    "All features have null data.\n",
    "\n",
    "<hr> </hr>"
   ]
  },
  {
   "cell_type": "markdown",
   "metadata": {},
   "source": [
    "The features in the data fall into three major types, namely \n",
    "- financial features\n",
    "- email features\n",
    "- POI labels.\n",
    "\n",
    "Financial features: ['salary', 'deferral_payments', 'total_payments', 'loan_advances', 'bonus', 'restricted_stock_deferred', 'deferred_income', 'total_stock_value', 'expenses', 'exercised_stock_options', 'other', 'long_term_incentive', 'restricted_stock', 'director_fees'] (all units are in US dollars)\n",
    "\n",
    "Email features: ['to_messages', 'email_address', 'from_poi_to_this_person', 'from_messages', 'from_this_person_to_poi', 'shared_receipt_with_poi'] (units are generally number of emails messages; notable exception is ‘email_address’, which is a text string)\n",
    "\n",
    "POI label: [‘poi’] (boolean, represented as integer)\n",
    "\n",
    "I'm going to try to use all features, filter them and choose the best."
   ]
  },
  {
   "cell_type": "markdown",
   "metadata": {},
   "source": [
    "### End of Project 1 \n",
    "<hr> </hr>"
   ]
  },
  {
   "cell_type": "markdown",
   "metadata": {},
   "source": [
    "## Regression (Outlier Investigation)"
   ]
  },
  {
   "cell_type": "markdown",
   "metadata": {},
   "source": [
    "Identifying outlier(s) in the financial data, and explaining how they are removed or otherwise handled."
   ]
  },
  {
   "cell_type": "code",
   "execution_count": 15,
   "metadata": {},
   "outputs": [],
   "source": [
    "## Remove column from df if null counter > 65\n",
    "for column, series in df.iteritems():\n",
    "    if series.isnull().sum()> 65:\n",
    "        df.drop(column, axis=1, inplace=True)\n",
    "        \n",
    "## Remove email address column\n",
    "if 'email_address' in list(df.columns.values):\n",
    "    df.drop('email_address', axis=1, inplace=True)"
   ]
  },
  {
   "cell_type": "code",
   "execution_count": 16,
   "metadata": {},
   "outputs": [
    {
     "name": "stdout",
     "output_type": "stream",
     "text": [
      "<class 'pandas.core.frame.DataFrame'>\n",
      "RangeIndex: 143 entries, 0 to 142\n",
      "Data columns (total 14 columns):\n",
      "bonus                      79 non-null float64\n",
      "exercised_stock_options    99 non-null float64\n",
      "expenses                   92 non-null float64\n",
      "from_messages              84 non-null float64\n",
      "from_poi_to_this_person    84 non-null float64\n",
      "from_this_person_to_poi    84 non-null float64\n",
      "other                      90 non-null float64\n",
      "poi                        143 non-null bool\n",
      "restricted_stock           107 non-null float64\n",
      "salary                     92 non-null float64\n",
      "shared_receipt_with_poi    84 non-null float64\n",
      "to_messages                84 non-null float64\n",
      "total_payments             122 non-null float64\n",
      "total_stock_value          123 non-null float64\n",
      "dtypes: bool(1), float64(13)\n",
      "memory usage: 14.7 KB\n"
     ]
    }
   ],
   "source": [
    "df.info()"
   ]
  },
  {
   "cell_type": "code",
   "execution_count": 17,
   "metadata": {},
   "outputs": [
    {
     "name": "stdout",
     "output_type": "stream",
     "text": [
      "bonus                      0\n",
      "exercised_stock_options    0\n",
      "expenses                   0\n",
      "from_messages              0\n",
      "from_poi_to_this_person    0\n",
      "from_this_person_to_poi    0\n",
      "other                      0\n",
      "poi                        0\n",
      "restricted_stock           0\n",
      "salary                     0\n",
      "shared_receipt_with_poi    0\n",
      "to_messages                0\n",
      "total_payments             0\n",
      "total_stock_value          0\n",
      "dtype: int64\n",
      "       bonus  exercised_stock_options  expenses  from_messages  \\\n",
      "0   600000.0                      0.0   94299.0           29.0   \n",
      "1  1200000.0                6680544.0   11200.0            0.0   \n",
      "2   350000.0                4890344.0   78552.0            0.0   \n",
      "3        0.0                 651850.0       0.0           12.0   \n",
      "4  1500000.0                5538001.0   34039.0           32.0   \n",
      "\n",
      "   from_poi_to_this_person  from_this_person_to_poi      other    poi  \\\n",
      "0                     38.0                      1.0     1740.0  False   \n",
      "1                      0.0                      0.0  2660303.0  False   \n",
      "2                      0.0                      0.0    12961.0  False   \n",
      "3                     10.0                      0.0        0.0  False   \n",
      "4                     32.0                     21.0    11350.0   True   \n",
      "\n",
      "   restricted_stock    salary  shared_receipt_with_poi  to_messages  \\\n",
      "0          585062.0  365788.0                    702.0        807.0   \n",
      "1         3942714.0  267102.0                      0.0          0.0   \n",
      "2         1788391.0  170941.0                      0.0          0.0   \n",
      "3          386335.0       0.0                     58.0        764.0   \n",
      "4          853064.0  243293.0                   1035.0       1045.0   \n",
      "\n",
      "   total_payments  total_stock_value  \n",
      "0       1061827.0           585062.0  \n",
      "1       5634343.0         10623258.0  \n",
      "2        211725.0          6678735.0  \n",
      "3             0.0          1038185.0  \n",
      "4        288682.0          6391065.0  \n"
     ]
    },
    {
     "data": {
      "text/html": [
       "<div>\n",
       "<style scoped>\n",
       "    .dataframe tbody tr th:only-of-type {\n",
       "        vertical-align: middle;\n",
       "    }\n",
       "\n",
       "    .dataframe tbody tr th {\n",
       "        vertical-align: top;\n",
       "    }\n",
       "\n",
       "    .dataframe thead th {\n",
       "        text-align: right;\n",
       "    }\n",
       "</style>\n",
       "<table border=\"1\" class=\"dataframe\">\n",
       "  <thead>\n",
       "    <tr style=\"text-align: right;\">\n",
       "      <th></th>\n",
       "      <th>bonus</th>\n",
       "      <th>exercised_stock_options</th>\n",
       "      <th>expenses</th>\n",
       "      <th>from_messages</th>\n",
       "      <th>from_poi_to_this_person</th>\n",
       "      <th>from_this_person_to_poi</th>\n",
       "      <th>other</th>\n",
       "      <th>restricted_stock</th>\n",
       "      <th>salary</th>\n",
       "      <th>shared_receipt_with_poi</th>\n",
       "      <th>to_messages</th>\n",
       "      <th>total_payments</th>\n",
       "      <th>total_stock_value</th>\n",
       "    </tr>\n",
       "  </thead>\n",
       "  <tbody>\n",
       "    <tr>\n",
       "      <th>count</th>\n",
       "      <td>1.430000e+02</td>\n",
       "      <td>1.430000e+02</td>\n",
       "      <td>143.000000</td>\n",
       "      <td>143.000000</td>\n",
       "      <td>143.000000</td>\n",
       "      <td>143.000000</td>\n",
       "      <td>1.430000e+02</td>\n",
       "      <td>1.430000e+02</td>\n",
       "      <td>1.430000e+02</td>\n",
       "      <td>143.000000</td>\n",
       "      <td>143.000000</td>\n",
       "      <td>1.430000e+02</td>\n",
       "      <td>1.430000e+02</td>\n",
       "    </tr>\n",
       "    <tr>\n",
       "      <th>mean</th>\n",
       "      <td>5.926127e+05</td>\n",
       "      <td>1.715504e+06</td>\n",
       "      <td>34719.447552</td>\n",
       "      <td>365.118881</td>\n",
       "      <td>37.552448</td>\n",
       "      <td>24.475524</td>\n",
       "      <td>2.267385e+05</td>\n",
       "      <td>7.235235e+05</td>\n",
       "      <td>1.714731e+05</td>\n",
       "      <td>676.384615</td>\n",
       "      <td>1191.972028</td>\n",
       "      <td>1.489942e+06</td>\n",
       "      <td>2.404233e+06</td>\n",
       "    </tr>\n",
       "    <tr>\n",
       "      <th>std</th>\n",
       "      <td>1.036924e+06</td>\n",
       "      <td>3.694149e+06</td>\n",
       "      <td>45235.547286</td>\n",
       "      <td>1455.675655</td>\n",
       "      <td>74.148184</td>\n",
       "      <td>80.080666</td>\n",
       "      <td>7.552178e+05</td>\n",
       "      <td>1.571184e+06</td>\n",
       "      <td>1.660404e+05</td>\n",
       "      <td>1066.923179</td>\n",
       "      <td>2223.860300</td>\n",
       "      <td>2.386745e+06</td>\n",
       "      <td>4.422592e+06</td>\n",
       "    </tr>\n",
       "    <tr>\n",
       "      <th>min</th>\n",
       "      <td>0.000000e+00</td>\n",
       "      <td>0.000000e+00</td>\n",
       "      <td>0.000000</td>\n",
       "      <td>0.000000</td>\n",
       "      <td>0.000000</td>\n",
       "      <td>0.000000</td>\n",
       "      <td>0.000000e+00</td>\n",
       "      <td>-2.604490e+06</td>\n",
       "      <td>0.000000e+00</td>\n",
       "      <td>0.000000</td>\n",
       "      <td>0.000000</td>\n",
       "      <td>0.000000e+00</td>\n",
       "      <td>-4.409300e+04</td>\n",
       "    </tr>\n",
       "    <tr>\n",
       "      <th>25%</th>\n",
       "      <td>0.000000e+00</td>\n",
       "      <td>0.000000e+00</td>\n",
       "      <td>0.000000</td>\n",
       "      <td>0.000000</td>\n",
       "      <td>0.000000</td>\n",
       "      <td>0.000000</td>\n",
       "      <td>0.000000e+00</td>\n",
       "      <td>0.000000e+00</td>\n",
       "      <td>0.000000e+00</td>\n",
       "      <td>0.000000</td>\n",
       "      <td>0.000000</td>\n",
       "      <td>8.929250e+04</td>\n",
       "      <td>2.148255e+05</td>\n",
       "    </tr>\n",
       "    <tr>\n",
       "      <th>50%</th>\n",
       "      <td>2.500000e+05</td>\n",
       "      <td>6.014380e+05</td>\n",
       "      <td>17355.000000</td>\n",
       "      <td>16.000000</td>\n",
       "      <td>1.000000</td>\n",
       "      <td>0.000000</td>\n",
       "      <td>8.910000e+02</td>\n",
       "      <td>3.466630e+05</td>\n",
       "      <td>2.061210e+05</td>\n",
       "      <td>91.000000</td>\n",
       "      <td>266.000000</td>\n",
       "      <td>9.114530e+05</td>\n",
       "      <td>9.543540e+05</td>\n",
       "    </tr>\n",
       "    <tr>\n",
       "      <th>75%</th>\n",
       "      <td>8.000000e+05</td>\n",
       "      <td>1.636136e+06</td>\n",
       "      <td>52688.500000</td>\n",
       "      <td>50.500000</td>\n",
       "      <td>39.500000</td>\n",
       "      <td>12.500000</td>\n",
       "      <td>1.492040e+05</td>\n",
       "      <td>6.801640e+05</td>\n",
       "      <td>2.670975e+05</td>\n",
       "      <td>869.000000</td>\n",
       "      <td>1504.000000</td>\n",
       "      <td>1.858492e+06</td>\n",
       "      <td>2.217787e+06</td>\n",
       "    </tr>\n",
       "    <tr>\n",
       "      <th>max</th>\n",
       "      <td>8.000000e+06</td>\n",
       "      <td>3.076606e+07</td>\n",
       "      <td>228763.000000</td>\n",
       "      <td>14368.000000</td>\n",
       "      <td>528.000000</td>\n",
       "      <td>609.000000</td>\n",
       "      <td>7.427621e+06</td>\n",
       "      <td>1.384707e+07</td>\n",
       "      <td>1.060932e+06</td>\n",
       "      <td>5521.000000</td>\n",
       "      <td>15149.000000</td>\n",
       "      <td>1.725253e+07</td>\n",
       "      <td>3.076606e+07</td>\n",
       "    </tr>\n",
       "  </tbody>\n",
       "</table>\n",
       "</div>"
      ],
      "text/plain": [
       "              bonus  exercised_stock_options       expenses  from_messages  \\\n",
       "count  1.430000e+02             1.430000e+02     143.000000     143.000000   \n",
       "mean   5.926127e+05             1.715504e+06   34719.447552     365.118881   \n",
       "std    1.036924e+06             3.694149e+06   45235.547286    1455.675655   \n",
       "min    0.000000e+00             0.000000e+00       0.000000       0.000000   \n",
       "25%    0.000000e+00             0.000000e+00       0.000000       0.000000   \n",
       "50%    2.500000e+05             6.014380e+05   17355.000000      16.000000   \n",
       "75%    8.000000e+05             1.636136e+06   52688.500000      50.500000   \n",
       "max    8.000000e+06             3.076606e+07  228763.000000   14368.000000   \n",
       "\n",
       "       from_poi_to_this_person  from_this_person_to_poi         other  \\\n",
       "count               143.000000               143.000000  1.430000e+02   \n",
       "mean                 37.552448                24.475524  2.267385e+05   \n",
       "std                  74.148184                80.080666  7.552178e+05   \n",
       "min                   0.000000                 0.000000  0.000000e+00   \n",
       "25%                   0.000000                 0.000000  0.000000e+00   \n",
       "50%                   1.000000                 0.000000  8.910000e+02   \n",
       "75%                  39.500000                12.500000  1.492040e+05   \n",
       "max                 528.000000               609.000000  7.427621e+06   \n",
       "\n",
       "       restricted_stock        salary  shared_receipt_with_poi   to_messages  \\\n",
       "count      1.430000e+02  1.430000e+02               143.000000    143.000000   \n",
       "mean       7.235235e+05  1.714731e+05               676.384615   1191.972028   \n",
       "std        1.571184e+06  1.660404e+05              1066.923179   2223.860300   \n",
       "min       -2.604490e+06  0.000000e+00                 0.000000      0.000000   \n",
       "25%        0.000000e+00  0.000000e+00                 0.000000      0.000000   \n",
       "50%        3.466630e+05  2.061210e+05                91.000000    266.000000   \n",
       "75%        6.801640e+05  2.670975e+05               869.000000   1504.000000   \n",
       "max        1.384707e+07  1.060932e+06              5521.000000  15149.000000   \n",
       "\n",
       "       total_payments  total_stock_value  \n",
       "count    1.430000e+02       1.430000e+02  \n",
       "mean     1.489942e+06       2.404233e+06  \n",
       "std      2.386745e+06       4.422592e+06  \n",
       "min      0.000000e+00      -4.409300e+04  \n",
       "25%      8.929250e+04       2.148255e+05  \n",
       "50%      9.114530e+05       9.543540e+05  \n",
       "75%      1.858492e+06       2.217787e+06  \n",
       "max      1.725253e+07       3.076606e+07  "
      ]
     },
     "execution_count": 17,
     "metadata": {},
     "output_type": "execute_result"
    }
   ],
   "source": [
    "#Imputing the missing values\n",
    "df_imp = df.replace(to_replace=np.nan, value=0)\n",
    "df_imp = df.fillna(0).copy(deep=True)\n",
    "df_imp.columns = list(df.columns.values)\n",
    "\n",
    "print(df_imp.isnull().sum())\n",
    "print(df_imp.head())\n",
    "\n",
    "df_imp.describe()"
   ]
  },
  {
   "cell_type": "code",
   "execution_count": 18,
   "metadata": {},
   "outputs": [
    {
     "data": {
      "text/plain": [
       "{'bonus': 'NaN',\n",
       " 'deferral_payments': 'NaN',\n",
       " 'deferred_income': 'NaN',\n",
       " 'director_fees': 'NaN',\n",
       " 'email_address': 'NaN',\n",
       " 'exercised_stock_options': 'NaN',\n",
       " 'expenses': 'NaN',\n",
       " 'from_messages': 'NaN',\n",
       " 'from_poi_to_this_person': 'NaN',\n",
       " 'from_this_person_to_poi': 'NaN',\n",
       " 'loan_advances': 'NaN',\n",
       " 'long_term_incentive': 'NaN',\n",
       " 'other': 362096,\n",
       " 'poi': False,\n",
       " 'restricted_stock': 'NaN',\n",
       " 'restricted_stock_deferred': 'NaN',\n",
       " 'salary': 'NaN',\n",
       " 'shared_receipt_with_poi': 'NaN',\n",
       " 'to_messages': 'NaN',\n",
       " 'total_payments': 362096,\n",
       " 'total_stock_value': 'NaN'}"
      ]
     },
     "execution_count": 18,
     "metadata": {},
     "output_type": "execute_result"
    }
   ],
   "source": [
    "### Queries of the Dataset ###\n",
    "enron_data['THE TRAVEL AGENCY IN THE PARK']"
   ]
  },
  {
   "cell_type": "code",
   "execution_count": 19,
   "metadata": {},
   "outputs": [
    {
     "name": "stdout",
     "output_type": "stream",
     "text": [
      "coef [1.97017287]\n",
      "intercept 662220.417601581\n"
     ]
    },
    {
     "data": {
      "image/png": "[encoded data removed]",
      "text/plain": [
       "<matplotlib.figure.Figure at 0x1e4560a7668>"
      ]
     },
     "metadata": {
      "needs_background": "light"
     },
     "output_type": "display_data"
    }
   ],
   "source": [
    "from feature_format import featureFormat, targetFeatureSplit\n",
    "dictionary = pickle.load(open(\"C:/Users/Geekquad/ud120-projects/final_project/final_project_dataset_modified_unix.pkl\", \"rb\"))\n",
    "features_list = [\"bonus\", \"salary\"]\n",
    "data = featureFormat( dictionary, features_list, remove_any_zeroes=True)\n",
    "target, features = targetFeatureSplit( data )\n",
    "from sklearn.cross_validation import train_test_split\n",
    "feature_train, feature_test, target_train, target_test = train_test_split(features, target, test_size=0.5, random_state=42)\n",
    "train_color = \"b\"\n",
    "test_color = \"r\"\n",
    "from sklearn.linear_model import LinearRegression\n",
    "reg = LinearRegression()\n",
    "reg.fit(feature_train, target_train)\n",
    "print('coef', reg.coef_)\n",
    "print('intercept', reg.intercept_)\n",
    "import matplotlib.pyplot as plt\n",
    "for feature, target in zip(feature_test, target_test):\n",
    "    plt.scatter(feature, target, color = test_color)\n",
    "    \n",
    "for feature, target in zip(feature_train, target_train):\n",
    "    plt.scatter(feature, target, color= train_color)\n",
    "    \n",
    "plt.scatter(feature_test[0], target_test[0], color=test_color, label='test')\n",
    "plt.scatter(feature_test[0], target_test[0], color=train_color, label='train')\n",
    "plt.plot(feature_test, reg.predict(feature_test))\n",
    "plt.plot(feature_train, reg.predict(feature_train), color=\"b\")\n",
    "plt.xlabel(features_list[1])\n",
    "plt.ylabel(features_list[0])\n",
    "plt.legend()\n",
    "plt.show()"
   ]
  },
  {
   "cell_type": "code",
   "execution_count": 20,
   "metadata": {},
   "outputs": [
    {
     "name": "stdout",
     "output_type": "stream",
     "text": [
      "98\n"
     ]
    }
   ],
   "source": [
    "# dropping row for 'THE TRAVEL AGENCY IN THE PARK'\n",
    "park_index = list(enron_data.keys()).index('THE TRAVEL AGENCY IN THE PARK')\n",
    "print(park_index)\n",
    "df_imp_sub = df_imp.drop(df_imp.index[[park_index]])"
   ]
  },
  {
   "cell_type": "code",
   "execution_count": 21,
   "metadata": {},
   "outputs": [
    {
     "data": {
      "text/plain": [
       "{'bonus': 'NaN',\n",
       " 'deferral_payments': 'NaN',\n",
       " 'deferred_income': 'NaN',\n",
       " 'director_fees': 'NaN',\n",
       " 'email_address': 'NaN',\n",
       " 'exercised_stock_options': 'NaN',\n",
       " 'expenses': 'NaN',\n",
       " 'from_messages': 'NaN',\n",
       " 'from_poi_to_this_person': 'NaN',\n",
       " 'from_this_person_to_poi': 'NaN',\n",
       " 'loan_advances': 'NaN',\n",
       " 'long_term_incentive': 'NaN',\n",
       " 'other': 'NaN',\n",
       " 'poi': False,\n",
       " 'restricted_stock': 'NaN',\n",
       " 'restricted_stock_deferred': 'NaN',\n",
       " 'salary': 'NaN',\n",
       " 'shared_receipt_with_poi': 'NaN',\n",
       " 'to_messages': 'NaN',\n",
       " 'total_payments': 'NaN',\n",
       " 'total_stock_value': 'NaN'}"
      ]
     },
     "execution_count": 21,
     "metadata": {},
     "output_type": "execute_result"
    }
   ],
   "source": [
    "enron_data['LOCKHART EUGENE E']"
   ]
  },
  {
   "cell_type": "code",
   "execution_count": 22,
   "metadata": {},
   "outputs": [
    {
     "name": "stdout",
     "output_type": "stream",
     "text": [
      "89\n"
     ]
    }
   ],
   "source": [
    "# dropping row for 'LOCKHART EUGENE E'\n",
    "lockhart_index = list(enron_data.keys()).index('LOCKHART EUGENE E')\n",
    "print(lockhart_index)\n",
    "df_imp_sub = df_imp.drop(df_imp.index[[park_index]])"
   ]
  },
  {
   "cell_type": "markdown",
   "metadata": {},
   "source": [
    "- 'THE TRAVEL AGENCY IN THE PARK' was removed since it is not a person. \n",
    "- 'LOCKHART EUGENE E' was removed during data processing since this row had no entries for any feature."
   ]
  },
  {
   "cell_type": "markdown",
   "metadata": {},
   "source": [
    "### End of Project 2\n",
    "<hr> </hr>"
   ]
  },
  {
   "cell_type": "markdown",
   "metadata": {},
   "source": [
    "## Optimize Feature Selection/Engineering"
   ]
  },
  {
   "cell_type": "code",
   "execution_count": 23,
   "metadata": {},
   "outputs": [],
   "source": [
    "enron_df = df_imp_sub"
   ]
  },
  {
   "cell_type": "markdown",
   "metadata": {},
   "source": [
    "### Studying Financial Features: "
   ]
  },
  {
   "cell_type": "code",
   "execution_count": 24,
   "metadata": {},
   "outputs": [
    {
     "data": {
      "image/png": "[encoded data removed]",
      "text/plain": [
       "<matplotlib.figure.Figure at 0x1e456091048>"
      ]
     },
     "metadata": {
      "needs_background": "light"
     },
     "output_type": "display_data"
    }
   ],
   "source": [
    "import matplotlib.pyplot as plt\n",
    "plt.scatter(enron_df['salary'], enron_df['total_payments'])\n",
    "plt.xlabel(\"salary\")\n",
    "plt.ylabel(\"total payments\")\n",
    "plt.show()"
   ]
  },
  {
   "cell_type": "code",
   "execution_count": 25,
   "metadata": {},
   "outputs": [
    {
     "data": {
      "image/png": "[encoded data removed]",
      "text/plain": [
       "<matplotlib.figure.Figure at 0x1e45824cbe0>"
      ]
     },
     "metadata": {
      "needs_background": "light"
     },
     "output_type": "display_data"
    }
   ],
   "source": [
    "plt.scatter(enron_df['salary'], enron_df['total_stock_value'])\n",
    "plt.xlabel(\"Salary\")\n",
    "plt.ylabel(\"Total Stock Value\")\n",
    "plt.show()"
   ]
  },
  {
   "cell_type": "markdown",
   "metadata": {},
   "source": [
    "#### Creating New deatures for Financial Features"
   ]
  },
  {
   "cell_type": "code",
   "execution_count": 26,
   "metadata": {},
   "outputs": [
    {
     "data": {
      "text/html": [
       "<div>\n",
       "<style scoped>\n",
       "    .dataframe tbody tr th:only-of-type {\n",
       "        vertical-align: middle;\n",
       "    }\n",
       "\n",
       "    .dataframe tbody tr th {\n",
       "        vertical-align: top;\n",
       "    }\n",
       "\n",
       "    .dataframe thead th {\n",
       "        text-align: right;\n",
       "    }\n",
       "</style>\n",
       "<table border=\"1\" class=\"dataframe\">\n",
       "  <thead>\n",
       "    <tr style=\"text-align: right;\">\n",
       "      <th></th>\n",
       "      <th>bonus</th>\n",
       "      <th>exercised_stock_options</th>\n",
       "      <th>expenses</th>\n",
       "      <th>from_messages</th>\n",
       "      <th>from_poi_to_this_person</th>\n",
       "      <th>from_this_person_to_poi</th>\n",
       "      <th>other</th>\n",
       "      <th>poi</th>\n",
       "      <th>restricted_stock</th>\n",
       "      <th>salary</th>\n",
       "      <th>shared_receipt_with_poi</th>\n",
       "      <th>to_messages</th>\n",
       "      <th>total_payments</th>\n",
       "      <th>total_stock_value</th>\n",
       "    </tr>\n",
       "  </thead>\n",
       "  <tbody>\n",
       "  </tbody>\n",
       "</table>\n",
       "</div>"
      ],
      "text/plain": [
       "Empty DataFrame\n",
       "Columns: [bonus, exercised_stock_options, expenses, from_messages, from_poi_to_this_person, from_this_person_to_poi, other, poi, restricted_stock, salary, shared_receipt_with_poi, to_messages, total_payments, total_stock_value]\n",
       "Index: []"
      ]
     },
     "execution_count": 26,
     "metadata": {},
     "output_type": "execute_result"
    }
   ],
   "source": [
    "enron_df[enron_df['total_stock_value'].isnull()]"
   ]
  },
  {
   "cell_type": "code",
   "execution_count": 27,
   "metadata": {},
   "outputs": [],
   "source": [
    "\"\"\"Creating new features 'salary_of_total_payments' and 'salary_of_total_stock_value\"\"\"\n",
    "enron_df['salary_of_total_payments'] = 0.0\n",
    "enron_df['salary_of_total_stock_value'] = 0.0\n",
    "enron_df.loc[enron_df['total_payments'] !=0.0, 'salary_of_total_payments'] = enron_df['salary']/enron_df['total_payments']*100\n",
    "enron_df.loc[enron_df['total_stock_value'] != 0.0,'salary_of_total_stock_value'] = enron_df['salary'] / enron_df['total_stock_value']*100\n"
   ]
  },
  {
   "cell_type": "code",
   "execution_count": 28,
   "metadata": {},
   "outputs": [
    {
     "data": {
      "text/html": [
       "<div>\n",
       "<style scoped>\n",
       "    .dataframe tbody tr th:only-of-type {\n",
       "        vertical-align: middle;\n",
       "    }\n",
       "\n",
       "    .dataframe tbody tr th {\n",
       "        vertical-align: top;\n",
       "    }\n",
       "\n",
       "    .dataframe thead th {\n",
       "        text-align: right;\n",
       "    }\n",
       "</style>\n",
       "<table border=\"1\" class=\"dataframe\">\n",
       "  <thead>\n",
       "    <tr style=\"text-align: right;\">\n",
       "      <th></th>\n",
       "      <th>bonus</th>\n",
       "      <th>exercised_stock_options</th>\n",
       "      <th>expenses</th>\n",
       "      <th>from_messages</th>\n",
       "      <th>from_poi_to_this_person</th>\n",
       "      <th>from_this_person_to_poi</th>\n",
       "      <th>other</th>\n",
       "      <th>poi</th>\n",
       "      <th>restricted_stock</th>\n",
       "      <th>salary</th>\n",
       "      <th>shared_receipt_with_poi</th>\n",
       "      <th>to_messages</th>\n",
       "      <th>total_payments</th>\n",
       "      <th>total_stock_value</th>\n",
       "      <th>salary_of_total_payments</th>\n",
       "      <th>salary_of_total_stock_value</th>\n",
       "    </tr>\n",
       "  </thead>\n",
       "  <tbody>\n",
       "    <tr>\n",
       "      <th>0</th>\n",
       "      <td>600000.0</td>\n",
       "      <td>0.0</td>\n",
       "      <td>94299.0</td>\n",
       "      <td>29.0</td>\n",
       "      <td>38.0</td>\n",
       "      <td>1.0</td>\n",
       "      <td>1740.0</td>\n",
       "      <td>False</td>\n",
       "      <td>585062.0</td>\n",
       "      <td>365788.0</td>\n",
       "      <td>702.0</td>\n",
       "      <td>807.0</td>\n",
       "      <td>1061827.0</td>\n",
       "      <td>585062.0</td>\n",
       "      <td>34.448926</td>\n",
       "      <td>62.521237</td>\n",
       "    </tr>\n",
       "    <tr>\n",
       "      <th>1</th>\n",
       "      <td>1200000.0</td>\n",
       "      <td>6680544.0</td>\n",
       "      <td>11200.0</td>\n",
       "      <td>0.0</td>\n",
       "      <td>0.0</td>\n",
       "      <td>0.0</td>\n",
       "      <td>2660303.0</td>\n",
       "      <td>False</td>\n",
       "      <td>3942714.0</td>\n",
       "      <td>267102.0</td>\n",
       "      <td>0.0</td>\n",
       "      <td>0.0</td>\n",
       "      <td>5634343.0</td>\n",
       "      <td>10623258.0</td>\n",
       "      <td>4.740606</td>\n",
       "      <td>2.514313</td>\n",
       "    </tr>\n",
       "    <tr>\n",
       "      <th>2</th>\n",
       "      <td>350000.0</td>\n",
       "      <td>4890344.0</td>\n",
       "      <td>78552.0</td>\n",
       "      <td>0.0</td>\n",
       "      <td>0.0</td>\n",
       "      <td>0.0</td>\n",
       "      <td>12961.0</td>\n",
       "      <td>False</td>\n",
       "      <td>1788391.0</td>\n",
       "      <td>170941.0</td>\n",
       "      <td>0.0</td>\n",
       "      <td>0.0</td>\n",
       "      <td>211725.0</td>\n",
       "      <td>6678735.0</td>\n",
       "      <td>80.737277</td>\n",
       "      <td>2.559482</td>\n",
       "    </tr>\n",
       "    <tr>\n",
       "      <th>3</th>\n",
       "      <td>0.0</td>\n",
       "      <td>651850.0</td>\n",
       "      <td>0.0</td>\n",
       "      <td>12.0</td>\n",
       "      <td>10.0</td>\n",
       "      <td>0.0</td>\n",
       "      <td>0.0</td>\n",
       "      <td>False</td>\n",
       "      <td>386335.0</td>\n",
       "      <td>0.0</td>\n",
       "      <td>58.0</td>\n",
       "      <td>764.0</td>\n",
       "      <td>0.0</td>\n",
       "      <td>1038185.0</td>\n",
       "      <td>0.000000</td>\n",
       "      <td>0.000000</td>\n",
       "    </tr>\n",
       "    <tr>\n",
       "      <th>4</th>\n",
       "      <td>1500000.0</td>\n",
       "      <td>5538001.0</td>\n",
       "      <td>34039.0</td>\n",
       "      <td>32.0</td>\n",
       "      <td>32.0</td>\n",
       "      <td>21.0</td>\n",
       "      <td>11350.0</td>\n",
       "      <td>True</td>\n",
       "      <td>853064.0</td>\n",
       "      <td>243293.0</td>\n",
       "      <td>1035.0</td>\n",
       "      <td>1045.0</td>\n",
       "      <td>288682.0</td>\n",
       "      <td>6391065.0</td>\n",
       "      <td>84.277163</td>\n",
       "      <td>3.806768</td>\n",
       "    </tr>\n",
       "  </tbody>\n",
       "</table>\n",
       "</div>"
      ],
      "text/plain": [
       "       bonus  exercised_stock_options  expenses  from_messages  \\\n",
       "0   600000.0                      0.0   94299.0           29.0   \n",
       "1  1200000.0                6680544.0   11200.0            0.0   \n",
       "2   350000.0                4890344.0   78552.0            0.0   \n",
       "3        0.0                 651850.0       0.0           12.0   \n",
       "4  1500000.0                5538001.0   34039.0           32.0   \n",
       "\n",
       "   from_poi_to_this_person  from_this_person_to_poi      other    poi  \\\n",
       "0                     38.0                      1.0     1740.0  False   \n",
       "1                      0.0                      0.0  2660303.0  False   \n",
       "2                      0.0                      0.0    12961.0  False   \n",
       "3                     10.0                      0.0        0.0  False   \n",
       "4                     32.0                     21.0    11350.0   True   \n",
       "\n",
       "   restricted_stock    salary  shared_receipt_with_poi  to_messages  \\\n",
       "0          585062.0  365788.0                    702.0        807.0   \n",
       "1         3942714.0  267102.0                      0.0          0.0   \n",
       "2         1788391.0  170941.0                      0.0          0.0   \n",
       "3          386335.0       0.0                     58.0        764.0   \n",
       "4          853064.0  243293.0                   1035.0       1045.0   \n",
       "\n",
       "   total_payments  total_stock_value  salary_of_total_payments  \\\n",
       "0       1061827.0           585062.0                 34.448926   \n",
       "1       5634343.0         10623258.0                  4.740606   \n",
       "2        211725.0          6678735.0                 80.737277   \n",
       "3             0.0          1038185.0                  0.000000   \n",
       "4        288682.0          6391065.0                 84.277163   \n",
       "\n",
       "   salary_of_total_stock_value  \n",
       "0                    62.521237  \n",
       "1                     2.514313  \n",
       "2                     2.559482  \n",
       "3                     0.000000  \n",
       "4                     3.806768  "
      ]
     },
     "execution_count": 28,
     "metadata": {},
     "output_type": "execute_result"
    }
   ],
   "source": [
    "enron_df.head()"
   ]
  },
  {
   "cell_type": "code",
   "execution_count": 29,
   "metadata": {},
   "outputs": [
    {
     "data": {
      "image/png": "[encoded data removed]",
      "text/plain": [
       "<matplotlib.figure.Figure at 0x1e4560ee128>"
      ]
     },
     "metadata": {
      "needs_background": "light"
     },
     "output_type": "display_data"
    }
   ],
   "source": [
    "# Graph 'salary_of_total_payment' and 'salary_of_total_stock_value' to salary\n",
    "plt.scatter(enron_df['salary'], enron_df['salary_of_total_payments'], color='blue')\n",
    "plt.scatter(enron_df['salary'], enron_df['salary_of_total_stock_value'], color='red')\n",
    "plt.xlabel('Salary')\n",
    "plt.ylabel('Of Total Payment / Of Total Stock Value')\n",
    "plt.show()"
   ]
  },
  {
   "cell_type": "markdown",
   "metadata": {},
   "source": [
    "#### Creating New Features for Email related features"
   ]
  },
  {
   "cell_type": "code",
   "execution_count": 30,
   "metadata": {},
   "outputs": [],
   "source": [
    "def outlierCleaner(predictions, ages, net_worths):\n",
    "    cleaned_Data = []\n",
    "    for i in range(0, len(predictions)):\n",
    "        age = ages[i][0]\n",
    "        new_worth = net_worths[i][0]\n",
    "        pred = predictions[i][0]\n",
    "        err = net_worth - pred\n",
    "        cleaned_data.append((age, net_worth, err))\n",
    "        \n",
    "    cleaned_data = sorted(cleaned_data, key=lambda x:x[2], reverse=True)[0:81]\n",
    "    \n",
    "    print('length of cleaned_data :', len(cleaned_data))\n",
    "    return cleaned_data"
   ]
  },
  {
   "cell_type": "markdown",
   "metadata": {},
   "source": [
    "#### Creating a column 'poi_ratio' to store POIs(Person Of Interest) related messages ratio in percentages.\n",
    "#### Also, will be adding new features:\n",
    "- the fraction of all emails to any **person** that went from a **person of interest**\n",
    "- the fraction of all emails that a **person** sent that were addressed to **persons of interest**\n",
    "\n",
    "The hypothesis behind these features is that there might be a stronger email connections between POIs than between POIs and non-POIs, and a **scatter plot** of these two features suggests that there might be some truth to that hypothesis. \n",
    "\n",
    "Moreover, I am scaling **'salary'** to a range [0, 100]"
   ]
  },
  {
   "cell_type": "code",
   "execution_count": 31,
   "metadata": {},
   "outputs": [],
   "source": [
    "enron_df['poi_ratio'] = 0.0\n",
    "enron_df['fraction_to_poi'] = 0.0\n",
    "enron_df['fraction_from_poi'] = 0.0\n",
    "\n",
    "enron_df.loc[(enron_df['from_messages'] + enron_df['to_messages']) != 0.0, 'poi_ratio'] = (enron_df['from_poi_to_this_person'] + enron_df['from_this_person_to_poi']) / (enron_df['from_messages'] + enron_df['to_messages']) * 100\n",
    "enron_df.loc[enron_df['from_messages'] != 0.0, 'fraction_to_poi'] = enron_df['from_this_person_to_poi'] / enron_df['from_messages'] * 100\n",
    "enron_df.loc[enron_df['to_messages'] != 0.0, 'fraction_from_poi']= enron_df['from_poi_to_this_person'] / enron_df['to_messages'] * 100"
   ]
  },
  {
   "cell_type": "code",
   "execution_count": 32,
   "metadata": {},
   "outputs": [
    {
     "data": {
      "image/png": "[encoded data removed]",
      "text/plain": [
       "<matplotlib.figure.Figure at 0x1e4581a4828>"
      ]
     },
     "metadata": {
      "needs_background": "light"
     },
     "output_type": "display_data"
    }
   ],
   "source": [
    "# Graph 'fraction_to_poi' and 'fraction_from_poi' to salary\n",
    "plt.scatter(enron_df['salary'], enron_df['fraction_to_poi'], color='blue')\n",
    "plt.scatter(enron_df['salary'], enron_df['fraction_from_poi'], color='red')\n",
    "plt.xlabel('Salary')\n",
    "plt.ylabel('Fraction')\n",
    "plt.show()"
   ]
  },
  {
   "cell_type": "markdown",
   "metadata": {},
   "source": [
    "#### Moving 'poi' to the first column"
   ]
  },
  {
   "cell_type": "code",
   "execution_count": 33,
   "metadata": {},
   "outputs": [],
   "source": [
    "cols = enron_df.columns.tolist()\n",
    "cols = cols[7:8] + cols[:7] + cols[8:]\n",
    "enron_df = enron_df[cols]"
   ]
  },
  {
   "cell_type": "code",
   "execution_count": 34,
   "metadata": {},
   "outputs": [
    {
     "data": {
      "text/plain": [
       "array(['poi', 'bonus', 'exercised_stock_options', 'expenses',\n",
       "       'from_messages', 'from_poi_to_this_person',\n",
       "       'from_this_person_to_poi', 'other', 'restricted_stock', 'salary',\n",
       "       'shared_receipt_with_poi', 'to_messages', 'total_payments',\n",
       "       'total_stock_value', 'salary_of_total_payments',\n",
       "       'salary_of_total_stock_value', 'poi_ratio', 'fraction_to_poi',\n",
       "       'fraction_from_poi'], dtype=object)"
      ]
     },
     "execution_count": 34,
     "metadata": {},
     "output_type": "execute_result"
    }
   ],
   "source": [
    "enron_df.columns.values"
   ]
  },
  {
   "cell_type": "code",
   "execution_count": 35,
   "metadata": {},
   "outputs": [
    {
     "data": {
      "text/html": [
       "<div>\n",
       "<style scoped>\n",
       "    .dataframe tbody tr th:only-of-type {\n",
       "        vertical-align: middle;\n",
       "    }\n",
       "\n",
       "    .dataframe tbody tr th {\n",
       "        vertical-align: top;\n",
       "    }\n",
       "\n",
       "    .dataframe thead th {\n",
       "        text-align: right;\n",
       "    }\n",
       "</style>\n",
       "<table border=\"1\" class=\"dataframe\">\n",
       "  <thead>\n",
       "    <tr style=\"text-align: right;\">\n",
       "      <th></th>\n",
       "      <th>poi</th>\n",
       "      <th>bonus</th>\n",
       "      <th>exercised_stock_options</th>\n",
       "      <th>expenses</th>\n",
       "      <th>from_messages</th>\n",
       "      <th>from_poi_to_this_person</th>\n",
       "      <th>from_this_person_to_poi</th>\n",
       "      <th>other</th>\n",
       "      <th>restricted_stock</th>\n",
       "      <th>salary</th>\n",
       "      <th>shared_receipt_with_poi</th>\n",
       "      <th>to_messages</th>\n",
       "      <th>total_payments</th>\n",
       "      <th>total_stock_value</th>\n",
       "      <th>salary_of_total_payments</th>\n",
       "      <th>salary_of_total_stock_value</th>\n",
       "      <th>poi_ratio</th>\n",
       "      <th>fraction_to_poi</th>\n",
       "      <th>fraction_from_poi</th>\n",
       "    </tr>\n",
       "  </thead>\n",
       "  <tbody>\n",
       "    <tr>\n",
       "      <th>0</th>\n",
       "      <td>False</td>\n",
       "      <td>600000.0</td>\n",
       "      <td>0.0</td>\n",
       "      <td>94299.0</td>\n",
       "      <td>29.0</td>\n",
       "      <td>38.0</td>\n",
       "      <td>1.0</td>\n",
       "      <td>1740.0</td>\n",
       "      <td>585062.0</td>\n",
       "      <td>365788.0</td>\n",
       "      <td>702.0</td>\n",
       "      <td>807.0</td>\n",
       "      <td>1061827.0</td>\n",
       "      <td>585062.0</td>\n",
       "      <td>34.448926</td>\n",
       "      <td>62.521237</td>\n",
       "      <td>4.665072</td>\n",
       "      <td>3.448276</td>\n",
       "      <td>4.708798</td>\n",
       "    </tr>\n",
       "    <tr>\n",
       "      <th>1</th>\n",
       "      <td>False</td>\n",
       "      <td>1200000.0</td>\n",
       "      <td>6680544.0</td>\n",
       "      <td>11200.0</td>\n",
       "      <td>0.0</td>\n",
       "      <td>0.0</td>\n",
       "      <td>0.0</td>\n",
       "      <td>2660303.0</td>\n",
       "      <td>3942714.0</td>\n",
       "      <td>267102.0</td>\n",
       "      <td>0.0</td>\n",
       "      <td>0.0</td>\n",
       "      <td>5634343.0</td>\n",
       "      <td>10623258.0</td>\n",
       "      <td>4.740606</td>\n",
       "      <td>2.514313</td>\n",
       "      <td>0.000000</td>\n",
       "      <td>0.000000</td>\n",
       "      <td>0.000000</td>\n",
       "    </tr>\n",
       "    <tr>\n",
       "      <th>2</th>\n",
       "      <td>False</td>\n",
       "      <td>350000.0</td>\n",
       "      <td>4890344.0</td>\n",
       "      <td>78552.0</td>\n",
       "      <td>0.0</td>\n",
       "      <td>0.0</td>\n",
       "      <td>0.0</td>\n",
       "      <td>12961.0</td>\n",
       "      <td>1788391.0</td>\n",
       "      <td>170941.0</td>\n",
       "      <td>0.0</td>\n",
       "      <td>0.0</td>\n",
       "      <td>211725.0</td>\n",
       "      <td>6678735.0</td>\n",
       "      <td>80.737277</td>\n",
       "      <td>2.559482</td>\n",
       "      <td>0.000000</td>\n",
       "      <td>0.000000</td>\n",
       "      <td>0.000000</td>\n",
       "    </tr>\n",
       "    <tr>\n",
       "      <th>3</th>\n",
       "      <td>False</td>\n",
       "      <td>0.0</td>\n",
       "      <td>651850.0</td>\n",
       "      <td>0.0</td>\n",
       "      <td>12.0</td>\n",
       "      <td>10.0</td>\n",
       "      <td>0.0</td>\n",
       "      <td>0.0</td>\n",
       "      <td>386335.0</td>\n",
       "      <td>0.0</td>\n",
       "      <td>58.0</td>\n",
       "      <td>764.0</td>\n",
       "      <td>0.0</td>\n",
       "      <td>1038185.0</td>\n",
       "      <td>0.000000</td>\n",
       "      <td>0.000000</td>\n",
       "      <td>1.288660</td>\n",
       "      <td>0.000000</td>\n",
       "      <td>1.308901</td>\n",
       "    </tr>\n",
       "    <tr>\n",
       "      <th>4</th>\n",
       "      <td>True</td>\n",
       "      <td>1500000.0</td>\n",
       "      <td>5538001.0</td>\n",
       "      <td>34039.0</td>\n",
       "      <td>32.0</td>\n",
       "      <td>32.0</td>\n",
       "      <td>21.0</td>\n",
       "      <td>11350.0</td>\n",
       "      <td>853064.0</td>\n",
       "      <td>243293.0</td>\n",
       "      <td>1035.0</td>\n",
       "      <td>1045.0</td>\n",
       "      <td>288682.0</td>\n",
       "      <td>6391065.0</td>\n",
       "      <td>84.277163</td>\n",
       "      <td>3.806768</td>\n",
       "      <td>4.921077</td>\n",
       "      <td>65.625000</td>\n",
       "      <td>3.062201</td>\n",
       "    </tr>\n",
       "  </tbody>\n",
       "</table>\n",
       "</div>"
      ],
      "text/plain": [
       "     poi      bonus  exercised_stock_options  expenses  from_messages  \\\n",
       "0  False   600000.0                      0.0   94299.0           29.0   \n",
       "1  False  1200000.0                6680544.0   11200.0            0.0   \n",
       "2  False   350000.0                4890344.0   78552.0            0.0   \n",
       "3  False        0.0                 651850.0       0.0           12.0   \n",
       "4   True  1500000.0                5538001.0   34039.0           32.0   \n",
       "\n",
       "   from_poi_to_this_person  from_this_person_to_poi      other  \\\n",
       "0                     38.0                      1.0     1740.0   \n",
       "1                      0.0                      0.0  2660303.0   \n",
       "2                      0.0                      0.0    12961.0   \n",
       "3                     10.0                      0.0        0.0   \n",
       "4                     32.0                     21.0    11350.0   \n",
       "\n",
       "   restricted_stock    salary  shared_receipt_with_poi  to_messages  \\\n",
       "0          585062.0  365788.0                    702.0        807.0   \n",
       "1         3942714.0  267102.0                      0.0          0.0   \n",
       "2         1788391.0  170941.0                      0.0          0.0   \n",
       "3          386335.0       0.0                     58.0        764.0   \n",
       "4          853064.0  243293.0                   1035.0       1045.0   \n",
       "\n",
       "   total_payments  total_stock_value  salary_of_total_payments  \\\n",
       "0       1061827.0           585062.0                 34.448926   \n",
       "1       5634343.0         10623258.0                  4.740606   \n",
       "2        211725.0          6678735.0                 80.737277   \n",
       "3             0.0          1038185.0                  0.000000   \n",
       "4        288682.0          6391065.0                 84.277163   \n",
       "\n",
       "   salary_of_total_stock_value  poi_ratio  fraction_to_poi  fraction_from_poi  \n",
       "0                    62.521237   4.665072         3.448276           4.708798  \n",
       "1                     2.514313   0.000000         0.000000           0.000000  \n",
       "2                     2.559482   0.000000         0.000000           0.000000  \n",
       "3                     0.000000   1.288660         0.000000           1.308901  \n",
       "4                     3.806768   4.921077        65.625000           3.062201  "
      ]
     },
     "execution_count": 35,
     "metadata": {},
     "output_type": "execute_result"
    }
   ],
   "source": [
    "enron_df.head()"
   ]
  },
  {
   "cell_type": "code",
   "execution_count": 36,
   "metadata": {
    "scrolled": false
   },
   "outputs": [
    {
     "data": {
      "text/html": [
       "<div>\n",
       "<style scoped>\n",
       "    .dataframe tbody tr th:only-of-type {\n",
       "        vertical-align: middle;\n",
       "    }\n",
       "\n",
       "    .dataframe tbody tr th {\n",
       "        vertical-align: top;\n",
       "    }\n",
       "\n",
       "    .dataframe thead th {\n",
       "        text-align: right;\n",
       "    }\n",
       "</style>\n",
       "<table border=\"1\" class=\"dataframe\">\n",
       "  <thead>\n",
       "    <tr style=\"text-align: right;\">\n",
       "      <th></th>\n",
       "      <th>bonus</th>\n",
       "      <th>exercised_stock_options</th>\n",
       "      <th>expenses</th>\n",
       "      <th>from_messages</th>\n",
       "      <th>from_poi_to_this_person</th>\n",
       "      <th>from_this_person_to_poi</th>\n",
       "      <th>other</th>\n",
       "      <th>restricted_stock</th>\n",
       "      <th>salary</th>\n",
       "      <th>shared_receipt_with_poi</th>\n",
       "      <th>to_messages</th>\n",
       "      <th>total_payments</th>\n",
       "      <th>total_stock_value</th>\n",
       "      <th>salary_of_total_payments</th>\n",
       "      <th>salary_of_total_stock_value</th>\n",
       "      <th>poi_ratio</th>\n",
       "      <th>fraction_to_poi</th>\n",
       "      <th>fraction_from_poi</th>\n",
       "    </tr>\n",
       "  </thead>\n",
       "  <tbody>\n",
       "    <tr>\n",
       "      <th>count</th>\n",
       "      <td>1.420000e+02</td>\n",
       "      <td>1.420000e+02</td>\n",
       "      <td>142.000000</td>\n",
       "      <td>142.000000</td>\n",
       "      <td>142.000000</td>\n",
       "      <td>142.000000</td>\n",
       "      <td>1.420000e+02</td>\n",
       "      <td>1.420000e+02</td>\n",
       "      <td>1.420000e+02</td>\n",
       "      <td>142.000000</td>\n",
       "      <td>142.000000</td>\n",
       "      <td>1.420000e+02</td>\n",
       "      <td>1.420000e+02</td>\n",
       "      <td>142.000000</td>\n",
       "      <td>142.000000</td>\n",
       "      <td>142.000000</td>\n",
       "      <td>142.000000</td>\n",
       "      <td>142.000000</td>\n",
       "    </tr>\n",
       "    <tr>\n",
       "      <th>mean</th>\n",
       "      <td>5.967860e+05</td>\n",
       "      <td>1.727585e+06</td>\n",
       "      <td>34963.950704</td>\n",
       "      <td>367.690141</td>\n",
       "      <td>37.816901</td>\n",
       "      <td>24.647887</td>\n",
       "      <td>2.257853e+05</td>\n",
       "      <td>7.286187e+05</td>\n",
       "      <td>1.726806e+05</td>\n",
       "      <td>681.147887</td>\n",
       "      <td>1200.366197</td>\n",
       "      <td>1.497885e+06</td>\n",
       "      <td>2.421165e+06</td>\n",
       "      <td>15.198587</td>\n",
       "      <td>35.821064</td>\n",
       "      <td>2.844448</td>\n",
       "      <td>10.638415</td>\n",
       "      <td>2.261809</td>\n",
       "    </tr>\n",
       "    <tr>\n",
       "      <th>std</th>\n",
       "      <td>1.039388e+06</td>\n",
       "      <td>3.704389e+06</td>\n",
       "      <td>45300.747867</td>\n",
       "      <td>1460.502581</td>\n",
       "      <td>74.342949</td>\n",
       "      <td>80.337515</td>\n",
       "      <td>7.578048e+05</td>\n",
       "      <td>1.575560e+06</td>\n",
       "      <td>1.659968e+05</td>\n",
       "      <td>1069.172948</td>\n",
       "      <td>2229.457770</td>\n",
       "      <td>2.393296e+06</td>\n",
       "      <td>4.433593e+06</td>\n",
       "      <td>20.375767</td>\n",
       "      <td>194.171876</td>\n",
       "      <td>4.312736</td>\n",
       "      <td>18.454284</td>\n",
       "      <td>3.667065</td>\n",
       "    </tr>\n",
       "    <tr>\n",
       "      <th>min</th>\n",
       "      <td>0.000000e+00</td>\n",
       "      <td>0.000000e+00</td>\n",
       "      <td>0.000000</td>\n",
       "      <td>0.000000</td>\n",
       "      <td>0.000000</td>\n",
       "      <td>0.000000</td>\n",
       "      <td>0.000000e+00</td>\n",
       "      <td>-2.604490e+06</td>\n",
       "      <td>0.000000e+00</td>\n",
       "      <td>0.000000</td>\n",
       "      <td>0.000000</td>\n",
       "      <td>0.000000e+00</td>\n",
       "      <td>-4.409300e+04</td>\n",
       "      <td>0.000000</td>\n",
       "      <td>0.000000</td>\n",
       "      <td>0.000000</td>\n",
       "      <td>0.000000</td>\n",
       "      <td>0.000000</td>\n",
       "    </tr>\n",
       "    <tr>\n",
       "      <th>25%</th>\n",
       "      <td>0.000000e+00</td>\n",
       "      <td>0.000000e+00</td>\n",
       "      <td>0.000000</td>\n",
       "      <td>0.000000</td>\n",
       "      <td>0.000000</td>\n",
       "      <td>0.000000</td>\n",
       "      <td>0.000000e+00</td>\n",
       "      <td>8.115000e+03</td>\n",
       "      <td>0.000000e+00</td>\n",
       "      <td>0.000000</td>\n",
       "      <td>0.000000</td>\n",
       "      <td>8.839225e+04</td>\n",
       "      <td>2.288695e+05</td>\n",
       "      <td>0.000000</td>\n",
       "      <td>0.000000</td>\n",
       "      <td>0.000000</td>\n",
       "      <td>0.000000</td>\n",
       "      <td>0.000000</td>\n",
       "    </tr>\n",
       "    <tr>\n",
       "      <th>50%</th>\n",
       "      <td>2.750000e+05</td>\n",
       "      <td>6.046375e+05</td>\n",
       "      <td>18094.500000</td>\n",
       "      <td>16.500000</td>\n",
       "      <td>2.500000</td>\n",
       "      <td>0.000000</td>\n",
       "      <td>8.825000e+02</td>\n",
       "      <td>3.535955e+05</td>\n",
       "      <td>2.083105e+05</td>\n",
       "      <td>102.500000</td>\n",
       "      <td>289.000000</td>\n",
       "      <td>9.138250e+05</td>\n",
       "      <td>9.551135e+05</td>\n",
       "      <td>9.792470</td>\n",
       "      <td>5.889988</td>\n",
       "      <td>0.787407</td>\n",
       "      <td>0.000000</td>\n",
       "      <td>0.297659</td>\n",
       "    </tr>\n",
       "    <tr>\n",
       "      <th>75%</th>\n",
       "      <td>8.000000e+05</td>\n",
       "      <td>1.636585e+06</td>\n",
       "      <td>52905.250000</td>\n",
       "      <td>51.250000</td>\n",
       "      <td>39.750000</td>\n",
       "      <td>12.750000</td>\n",
       "      <td>1.454285e+05</td>\n",
       "      <td>6.892030e+05</td>\n",
       "      <td>2.670998e+05</td>\n",
       "      <td>871.500000</td>\n",
       "      <td>1513.000000</td>\n",
       "      <td>1.863625e+06</td>\n",
       "      <td>2.218031e+06</td>\n",
       "      <td>21.593596</td>\n",
       "      <td>22.361452</td>\n",
       "      <td>4.367335</td>\n",
       "      <td>16.995688</td>\n",
       "      <td>3.012120</td>\n",
       "    </tr>\n",
       "    <tr>\n",
       "      <th>max</th>\n",
       "      <td>8.000000e+06</td>\n",
       "      <td>3.076606e+07</td>\n",
       "      <td>228763.000000</td>\n",
       "      <td>14368.000000</td>\n",
       "      <td>528.000000</td>\n",
       "      <td>609.000000</td>\n",
       "      <td>7.427621e+06</td>\n",
       "      <td>1.384707e+07</td>\n",
       "      <td>1.060932e+06</td>\n",
       "      <td>5521.000000</td>\n",
       "      <td>15149.000000</td>\n",
       "      <td>1.725253e+07</td>\n",
       "      <td>3.076606e+07</td>\n",
       "      <td>94.795031</td>\n",
       "      <td>2274.591986</td>\n",
       "      <td>22.435175</td>\n",
       "      <td>100.000000</td>\n",
       "      <td>21.734104</td>\n",
       "    </tr>\n",
       "  </tbody>\n",
       "</table>\n",
       "</div>"
      ],
      "text/plain": [
       "              bonus  exercised_stock_options       expenses  from_messages  \\\n",
       "count  1.420000e+02             1.420000e+02     142.000000     142.000000   \n",
       "mean   5.967860e+05             1.727585e+06   34963.950704     367.690141   \n",
       "std    1.039388e+06             3.704389e+06   45300.747867    1460.502581   \n",
       "min    0.000000e+00             0.000000e+00       0.000000       0.000000   \n",
       "25%    0.000000e+00             0.000000e+00       0.000000       0.000000   \n",
       "50%    2.750000e+05             6.046375e+05   18094.500000      16.500000   \n",
       "75%    8.000000e+05             1.636585e+06   52905.250000      51.250000   \n",
       "max    8.000000e+06             3.076606e+07  228763.000000   14368.000000   \n",
       "\n",
       "       from_poi_to_this_person  from_this_person_to_poi         other  \\\n",
       "count               142.000000               142.000000  1.420000e+02   \n",
       "mean                 37.816901                24.647887  2.257853e+05   \n",
       "std                  74.342949                80.337515  7.578048e+05   \n",
       "min                   0.000000                 0.000000  0.000000e+00   \n",
       "25%                   0.000000                 0.000000  0.000000e+00   \n",
       "50%                   2.500000                 0.000000  8.825000e+02   \n",
       "75%                  39.750000                12.750000  1.454285e+05   \n",
       "max                 528.000000               609.000000  7.427621e+06   \n",
       "\n",
       "       restricted_stock        salary  shared_receipt_with_poi   to_messages  \\\n",
       "count      1.420000e+02  1.420000e+02               142.000000    142.000000   \n",
       "mean       7.286187e+05  1.726806e+05               681.147887   1200.366197   \n",
       "std        1.575560e+06  1.659968e+05              1069.172948   2229.457770   \n",
       "min       -2.604490e+06  0.000000e+00                 0.000000      0.000000   \n",
       "25%        8.115000e+03  0.000000e+00                 0.000000      0.000000   \n",
       "50%        3.535955e+05  2.083105e+05               102.500000    289.000000   \n",
       "75%        6.892030e+05  2.670998e+05               871.500000   1513.000000   \n",
       "max        1.384707e+07  1.060932e+06              5521.000000  15149.000000   \n",
       "\n",
       "       total_payments  total_stock_value  salary_of_total_payments  \\\n",
       "count    1.420000e+02       1.420000e+02                142.000000   \n",
       "mean     1.497885e+06       2.421165e+06                 15.198587   \n",
       "std      2.393296e+06       4.433593e+06                 20.375767   \n",
       "min      0.000000e+00      -4.409300e+04                  0.000000   \n",
       "25%      8.839225e+04       2.288695e+05                  0.000000   \n",
       "50%      9.138250e+05       9.551135e+05                  9.792470   \n",
       "75%      1.863625e+06       2.218031e+06                 21.593596   \n",
       "max      1.725253e+07       3.076606e+07                 94.795031   \n",
       "\n",
       "       salary_of_total_stock_value   poi_ratio  fraction_to_poi  \\\n",
       "count                   142.000000  142.000000       142.000000   \n",
       "mean                     35.821064    2.844448        10.638415   \n",
       "std                     194.171876    4.312736        18.454284   \n",
       "min                       0.000000    0.000000         0.000000   \n",
       "25%                       0.000000    0.000000         0.000000   \n",
       "50%                       5.889988    0.787407         0.000000   \n",
       "75%                      22.361452    4.367335        16.995688   \n",
       "max                    2274.591986   22.435175       100.000000   \n",
       "\n",
       "       fraction_from_poi  \n",
       "count         142.000000  \n",
       "mean            2.261809  \n",
       "std             3.667065  \n",
       "min             0.000000  \n",
       "25%             0.000000  \n",
       "50%             0.297659  \n",
       "75%             3.012120  \n",
       "max            21.734104  "
      ]
     },
     "execution_count": 36,
     "metadata": {},
     "output_type": "execute_result"
    }
   ],
   "source": [
    "enron_df.describe()"
   ]
  },
  {
   "cell_type": "code",
   "execution_count": 37,
   "metadata": {},
   "outputs": [
    {
     "data": {
      "text/plain": [
       "(142, 19)"
      ]
     },
     "execution_count": 37,
     "metadata": {},
     "output_type": "execute_result"
    }
   ],
   "source": [
    "enron_df.shape"
   ]
  },
  {
   "cell_type": "code",
   "execution_count": 38,
   "metadata": {},
   "outputs": [
    {
     "name": "stdout",
     "output_type": "stream",
     "text": [
      "<class 'pandas.core.frame.DataFrame'>\n",
      "Int64Index: 142 entries, 0 to 142\n",
      "Data columns (total 19 columns):\n",
      "poi                            142 non-null bool\n",
      "bonus                          142 non-null float64\n",
      "exercised_stock_options        142 non-null float64\n",
      "expenses                       142 non-null float64\n",
      "from_messages                  142 non-null float64\n",
      "from_poi_to_this_person        142 non-null float64\n",
      "from_this_person_to_poi        142 non-null float64\n",
      "other                          142 non-null float64\n",
      "restricted_stock               142 non-null float64\n",
      "salary                         142 non-null float64\n",
      "shared_receipt_with_poi        142 non-null float64\n",
      "to_messages                    142 non-null float64\n",
      "total_payments                 142 non-null float64\n",
      "total_stock_value              142 non-null float64\n",
      "salary_of_total_payments       142 non-null float64\n",
      "salary_of_total_stock_value    142 non-null float64\n",
      "poi_ratio                      142 non-null float64\n",
      "fraction_to_poi                142 non-null float64\n",
      "fraction_from_poi              142 non-null float64\n",
      "dtypes: bool(1), float64(18)\n",
      "memory usage: 26.2 KB\n"
     ]
    }
   ],
   "source": [
    "enron_df.info()"
   ]
  },
  {
   "cell_type": "markdown",
   "metadata": {},
   "source": [
    "### Setting up label, features and predictors "
   ]
  },
  {
   "cell_type": "code",
   "execution_count": 39,
   "metadata": {},
   "outputs": [
    {
     "name": "stdout",
     "output_type": "stream",
     "text": [
      "['bonus' 'exercised_stock_options' 'expenses' 'from_messages'\n",
      " 'from_poi_to_this_person' 'from_this_person_to_poi' 'other'\n",
      " 'restricted_stock' 'salary' 'shared_receipt_with_poi' 'to_messages'\n",
      " 'total_payments' 'total_stock_value' 'salary_of_total_payments'\n",
      " 'salary_of_total_stock_value' 'poi_ratio' 'fraction_to_poi'\n",
      " 'fraction_from_poi']\n"
     ]
    }
   ],
   "source": [
    "predictors = enron_df.drop('poi', axis=1).columns.values\n",
    "print(predictors)"
   ]
  },
  {
   "cell_type": "markdown",
   "metadata": {},
   "source": [
    "### Selecting Features Intelligently"
   ]
  },
  {
   "cell_type": "code",
   "execution_count": 40,
   "metadata": {},
   "outputs": [
    {
     "data": {
      "image/png": "[encoded data removed]",
      "text/plain": [
       "<matplotlib.figure.Figure at 0x1e4560d2dd8>"
      ]
     },
     "metadata": {
      "needs_background": "light"
     },
     "output_type": "display_data"
    }
   ],
   "source": [
    "from sklearn.feature_selection import SelectKBest, f_classif\n",
    "from sklearn.cross_validation import KFold\n",
    "%matplotlib inline\n",
    "\n",
    "selector = SelectKBest(f_classif, k=5)\n",
    "selector.fit(enron_df[predictors], enron_df['poi'])\n",
    "\n",
    "scores = -np.log10(selector.pvalues_)\n",
    "indices = np.argsort(scores)[::-1]\n",
    "sorted_important_features = []\n",
    "for i in indices:\n",
    "    sorted_important_features.append(predictors[i])\n",
    "\n",
    "# Plot the scores.  \n",
    "plt.figure()\n",
    "plt.title(\"Feature Importances\")\n",
    "plt.bar(range(np.size(predictors)), scores[indices],\n",
    "       color=\"seagreen\", yerr=np.std([indices]), align=\"center\")\n",
    "plt.xticks(range(np.size(predictors)), sorted_important_features, rotation='vertical')\n",
    "\n",
    "plt.xlim([-1, np.size(predictors)])\n",
    "plt.show()"
   ]
  },
  {
   "cell_type": "markdown",
   "metadata": {},
   "source": [
    "Based on the above sorted importance value, dropping columns of lower importance value. \n",
    "- 'salary_of_total_stock_value', \n",
    "- 'other', \n",
    "- 'from_messages', \n",
    "- 'total_payments', \n",
    "- 'to_messages'"
   ]
  },
  {
   "cell_type": "code",
   "execution_count": 41,
   "metadata": {},
   "outputs": [],
   "source": [
    "# 13 features\n",
    "predictors = ['bonus', 'exercised_stock_options', 'expenses','from_poi_to_this_person', 'from_this_person_to_poi',\n",
    " 'restricted_stock', 'salary', 'shared_receipt_with_poi','total_stock_value', 'poi_ratio', 'fraction_to_poi',\n",
    " 'fraction_from_poi', 'salary_of_total_payments']\n",
    "\n",
    "# 8 features\n",
    "predictors_8 = ['bonus', 'exercised_stock_options', 'total_stock_value', 'fraction_to_poi',  'expenses', 'salary',\n",
    "              'shared_receipt_with_poi', 'poi_ratio']\n",
    "\n",
    "# 4 features\n",
    "predictors_4 = ['bonus', 'exercised_stock_options', 'total_stock_value', 'fraction_to_poi']"
   ]
  },
  {
   "cell_type": "code",
   "execution_count": 42,
   "metadata": {},
   "outputs": [
    {
     "name": "stdout",
     "output_type": "stream",
     "text": [
      "[0 0 0 0 1 0 0 0 0 0 0 0 0 0 0 0 1 0 0 0 0 0 0 0 0 0 0 0 0 0 1 0 0 0 0 0 0\n",
      " 0 0 0 1 0 0 0 0 0 0 0 0 0 0 0 1 0 0 0 0 0 0 1 0 0 0 0 0 0 0 0 0 0 0 0 0 0\n",
      " 1 0 0 0 0 0 1 0 0 0 1 0 1 1 0 0 0 0 0 0 0 0 0 0 0 0 0 0 0 0 0 0 0 0 0 0 0\n",
      " 0 0 0 0 0 0 0 0 0 1 1 0 0 0 0 0 0 0 0 0 1 0 0 0 0 0 0 1 0 0 1]\n",
      "[[6.00000000e+05 0.00000000e+00 9.42990000e+04 ... 3.44827586e+00\n",
      "  4.70879802e+00 3.44489262e+01]\n",
      " [1.20000000e+06 6.68054400e+06 1.12000000e+04 ... 0.00000000e+00\n",
      "  0.00000000e+00 4.74060596e+00]\n",
      " [3.50000000e+05 4.89034400e+06 7.85520000e+04 ... 0.00000000e+00\n",
      "  0.00000000e+00 8.07372771e+01]\n",
      " ...\n",
      " [6.00000000e+05 3.18125000e+06 0.00000000e+00 ... 0.00000000e+00\n",
      "  0.00000000e+00 2.42722596e+01]\n",
      " [8.00000000e+05 7.65920000e+05 9.62680000e+04 ... 5.00000000e+01\n",
      "  2.17341040e+01 3.18124829e+01]\n",
      " [6.00000000e+05 3.84728000e+05 1.25978000e+05 ... 3.75000000e+01\n",
      "  5.95647194e+00 2.16127060e+01]]\n"
     ]
    }
   ],
   "source": [
    "\"\"\" Splitting the data on training and test data. I will use Stratified Shuffle Split due to small dataset. \"\"\"\n",
    "labels = enron_df['poi'].copy(deep=True).astype(int).as_matrix()\n",
    "features = (enron_df[predictors]).fillna(0).copy(deep=True).as_matrix()\n",
    "print(labels)\n",
    "print(features)"
   ]
  },
  {
   "cell_type": "markdown",
   "metadata": {},
   "source": [
    "#### Properly Scaling Features\n",
    "If algorithm calls for scaled features, feature scaling is deployed."
   ]
  },
  {
   "cell_type": "code",
   "execution_count": 43,
   "metadata": {},
   "outputs": [
    {
     "ename": "ValueError",
     "evalue": "Expected 2D array, got 1D array instead:\narray=[3.657880e+05 2.671020e+05 1.709410e+05 0.000000e+00 2.432930e+05\n 2.670930e+05 0.000000e+00 3.704480e+05 3.741250e+05 1.970910e+05\n 1.307240e+05 0.000000e+00 2.485460e+05 2.574860e+05 0.000000e+00\n 0.000000e+00 2.885420e+05 2.516540e+05 2.885580e+05 6.374400e+04\n 0.000000e+00 3.570910e+05 2.714420e+05 0.000000e+00 0.000000e+00\n 3.041100e+05 0.000000e+00 1.879220e+05 0.000000e+00 2.136250e+05\n 2.492010e+05 0.000000e+00 2.313300e+05 0.000000e+00 1.822450e+05\n 0.000000e+00 2.117880e+05 0.000000e+00 0.000000e+00 0.000000e+00\n 2.243050e+05 2.737460e+05 3.392880e+05 2.165820e+05 2.105000e+05\n 0.000000e+00 0.000000e+00 2.728800e+05 4.770000e+02 0.000000e+00\n 2.690760e+05 4.287800e+05 2.118440e+05 0.000000e+00 2.061210e+05\n 1.742460e+05 5.103640e+05 3.650380e+05 0.000000e+00 3.651630e+05\n 1.627790e+05 0.000000e+00 2.364570e+05 0.000000e+00 2.615160e+05\n 3.290780e+05 0.000000e+00 1.848990e+05 1.920080e+05 0.000000e+00\n 2.626630e+05 3.045880e+05 0.000000e+00 0.000000e+00 2.786010e+05\n 0.000000e+00 1.991570e+05 0.000000e+00 9.684000e+04 8.081800e+04\n 2.139990e+05 2.627880e+05 2.106920e+05 2.220930e+05 4.406980e+05\n 0.000000e+00 2.401890e+05 4.206360e+05 2.751010e+05 0.000000e+00\n 3.142880e+05 9.494100e+04 0.000000e+00 2.395020e+05 0.000000e+00\n 0.000000e+00 0.000000e+00 6.615000e+03 2.885890e+05 4.043380e+05\n 0.000000e+00 2.599960e+05 3.175430e+05 0.000000e+00 2.019550e+05\n 2.481460e+05 0.000000e+00 0.000000e+00 0.000000e+00 2.634130e+05\n 0.000000e+00 7.639900e+04 6.550370e+05 0.000000e+00 2.618090e+05\n 2.480170e+05 0.000000e+00 2.292840e+05 2.319460e+05 2.210030e+05\n 1.584030e+05 0.000000e+00 2.501000e+05 4.923750e+05 1.060932e+06\n 2.618790e+05 0.000000e+00 2.396710e+05 0.000000e+00 0.000000e+00\n 0.000000e+00 3.099460e+05 0.000000e+00 8.527400e+04 2.473380e+05\n 3.494870e+05 3.305460e+05 0.000000e+00 4.151890e+05 2.652140e+05\n 2.786010e+05 2.749750e+05].\nReshape your data either using array.reshape(-1, 1) if your data has a single feature or array.reshape(1, -1) if it contains a single sample.",
     "output_type": "error",
     "traceback": [
      "\u001b[1;31m---------------------------------------------------------------------------\u001b[0m",
      "\u001b[1;31mValueError\u001b[0m                                Traceback (most recent call last)",
      "\u001b[1;32m<ipython-input-43-e671b87bf3f2>\u001b[0m in \u001b[0;36m<module>\u001b[1;34m()\u001b[0m\n\u001b[0;32m      1\u001b[0m \u001b[0mscaler\u001b[0m \u001b[1;33m=\u001b[0m \u001b[0msklearn\u001b[0m\u001b[1;33m.\u001b[0m\u001b[0mpreprocessing\u001b[0m\u001b[1;33m.\u001b[0m\u001b[0mMinMaxScaler\u001b[0m\u001b[1;33m(\u001b[0m\u001b[0mfeature_range\u001b[0m\u001b[1;33m=\u001b[0m\u001b[1;33m(\u001b[0m\u001b[1;36m0\u001b[0m\u001b[1;33m,\u001b[0m \u001b[1;36m100\u001b[0m\u001b[1;33m)\u001b[0m\u001b[1;33m,\u001b[0m \u001b[0mcopy\u001b[0m\u001b[1;33m=\u001b[0m\u001b[1;32mTrue\u001b[0m\u001b[1;33m)\u001b[0m\u001b[1;33m\u001b[0m\u001b[0m\n\u001b[1;32m----> 2\u001b[1;33m \u001b[0msalary_scaled\u001b[0m \u001b[1;33m=\u001b[0m \u001b[0mscaler\u001b[0m\u001b[1;33m.\u001b[0m\u001b[0mfit_transform\u001b[0m\u001b[1;33m(\u001b[0m\u001b[0menron_df\u001b[0m\u001b[1;33m[\u001b[0m\u001b[1;34m'salary'\u001b[0m\u001b[1;33m]\u001b[0m\u001b[1;33m)\u001b[0m\u001b[1;33m\u001b[0m\u001b[0m\n\u001b[0m",
      "\u001b[1;32m~\\Anaconda3\\lib\\site-packages\\sklearn\\base.py\u001b[0m in \u001b[0;36mfit_transform\u001b[1;34m(self, X, y, **fit_params)\u001b[0m\n\u001b[0;32m    515\u001b[0m         \u001b[1;32mif\u001b[0m \u001b[0my\u001b[0m \u001b[1;32mis\u001b[0m \u001b[1;32mNone\u001b[0m\u001b[1;33m:\u001b[0m\u001b[1;33m\u001b[0m\u001b[0m\n\u001b[0;32m    516\u001b[0m             \u001b[1;31m# fit method of arity 1 (unsupervised transformation)\u001b[0m\u001b[1;33m\u001b[0m\u001b[1;33m\u001b[0m\u001b[0m\n\u001b[1;32m--> 517\u001b[1;33m             \u001b[1;32mreturn\u001b[0m \u001b[0mself\u001b[0m\u001b[1;33m.\u001b[0m\u001b[0mfit\u001b[0m\u001b[1;33m(\u001b[0m\u001b[0mX\u001b[0m\u001b[1;33m,\u001b[0m \u001b[1;33m**\u001b[0m\u001b[0mfit_params\u001b[0m\u001b[1;33m)\u001b[0m\u001b[1;33m.\u001b[0m\u001b[0mtransform\u001b[0m\u001b[1;33m(\u001b[0m\u001b[0mX\u001b[0m\u001b[1;33m)\u001b[0m\u001b[1;33m\u001b[0m\u001b[0m\n\u001b[0m\u001b[0;32m    518\u001b[0m         \u001b[1;32melse\u001b[0m\u001b[1;33m:\u001b[0m\u001b[1;33m\u001b[0m\u001b[0m\n\u001b[0;32m    519\u001b[0m             \u001b[1;31m# fit method of arity 2 (supervised transformation)\u001b[0m\u001b[1;33m\u001b[0m\u001b[1;33m\u001b[0m\u001b[0m\n",
      "\u001b[1;32m~\\Anaconda3\\lib\\site-packages\\sklearn\\preprocessing\\data.py\u001b[0m in \u001b[0;36mfit\u001b[1;34m(self, X, y)\u001b[0m\n\u001b[0;32m    306\u001b[0m         \u001b[1;31m# Reset internal state before fitting\u001b[0m\u001b[1;33m\u001b[0m\u001b[1;33m\u001b[0m\u001b[0m\n\u001b[0;32m    307\u001b[0m         \u001b[0mself\u001b[0m\u001b[1;33m.\u001b[0m\u001b[0m_reset\u001b[0m\u001b[1;33m(\u001b[0m\u001b[1;33m)\u001b[0m\u001b[1;33m\u001b[0m\u001b[0m\n\u001b[1;32m--> 308\u001b[1;33m         \u001b[1;32mreturn\u001b[0m \u001b[0mself\u001b[0m\u001b[1;33m.\u001b[0m\u001b[0mpartial_fit\u001b[0m\u001b[1;33m(\u001b[0m\u001b[0mX\u001b[0m\u001b[1;33m,\u001b[0m \u001b[0my\u001b[0m\u001b[1;33m)\u001b[0m\u001b[1;33m\u001b[0m\u001b[0m\n\u001b[0m\u001b[0;32m    309\u001b[0m \u001b[1;33m\u001b[0m\u001b[0m\n\u001b[0;32m    310\u001b[0m     \u001b[1;32mdef\u001b[0m \u001b[0mpartial_fit\u001b[0m\u001b[1;33m(\u001b[0m\u001b[0mself\u001b[0m\u001b[1;33m,\u001b[0m \u001b[0mX\u001b[0m\u001b[1;33m,\u001b[0m \u001b[0my\u001b[0m\u001b[1;33m=\u001b[0m\u001b[1;32mNone\u001b[0m\u001b[1;33m)\u001b[0m\u001b[1;33m:\u001b[0m\u001b[1;33m\u001b[0m\u001b[0m\n",
      "\u001b[1;32m~\\Anaconda3\\lib\\site-packages\\sklearn\\preprocessing\\data.py\u001b[0m in \u001b[0;36mpartial_fit\u001b[1;34m(self, X, y)\u001b[0m\n\u001b[0;32m    332\u001b[0m \u001b[1;33m\u001b[0m\u001b[0m\n\u001b[0;32m    333\u001b[0m         X = check_array(X, copy=self.copy, warn_on_dtype=True,\n\u001b[1;32m--> 334\u001b[1;33m                         estimator=self, dtype=FLOAT_DTYPES)\n\u001b[0m\u001b[0;32m    335\u001b[0m \u001b[1;33m\u001b[0m\u001b[0m\n\u001b[0;32m    336\u001b[0m         \u001b[0mdata_min\u001b[0m \u001b[1;33m=\u001b[0m \u001b[0mnp\u001b[0m\u001b[1;33m.\u001b[0m\u001b[0mmin\u001b[0m\u001b[1;33m(\u001b[0m\u001b[0mX\u001b[0m\u001b[1;33m,\u001b[0m \u001b[0maxis\u001b[0m\u001b[1;33m=\u001b[0m\u001b[1;36m0\u001b[0m\u001b[1;33m)\u001b[0m\u001b[1;33m\u001b[0m\u001b[0m\n",
      "\u001b[1;32m~\\Anaconda3\\lib\\site-packages\\sklearn\\utils\\validation.py\u001b[0m in \u001b[0;36mcheck_array\u001b[1;34m(array, accept_sparse, dtype, order, copy, force_all_finite, ensure_2d, allow_nd, ensure_min_samples, ensure_min_features, warn_on_dtype, estimator)\u001b[0m\n\u001b[0;32m    439\u001b[0m                     \u001b[1;34m\"Reshape your data either using array.reshape(-1, 1) if \"\u001b[0m\u001b[1;33m\u001b[0m\u001b[0m\n\u001b[0;32m    440\u001b[0m                     \u001b[1;34m\"your data has a single feature or array.reshape(1, -1) \"\u001b[0m\u001b[1;33m\u001b[0m\u001b[0m\n\u001b[1;32m--> 441\u001b[1;33m                     \"if it contains a single sample.\".format(array))\n\u001b[0m\u001b[0;32m    442\u001b[0m             \u001b[0marray\u001b[0m \u001b[1;33m=\u001b[0m \u001b[0mnp\u001b[0m\u001b[1;33m.\u001b[0m\u001b[0matleast_2d\u001b[0m\u001b[1;33m(\u001b[0m\u001b[0marray\u001b[0m\u001b[1;33m)\u001b[0m\u001b[1;33m\u001b[0m\u001b[0m\n\u001b[0;32m    443\u001b[0m             \u001b[1;31m# To ensure that array flags are maintained\u001b[0m\u001b[1;33m\u001b[0m\u001b[1;33m\u001b[0m\u001b[0m\n",
      "\u001b[1;31mValueError\u001b[0m: Expected 2D array, got 1D array instead:\narray=[3.657880e+05 2.671020e+05 1.709410e+05 0.000000e+00 2.432930e+05\n 2.670930e+05 0.000000e+00 3.704480e+05 3.741250e+05 1.970910e+05\n 1.307240e+05 0.000000e+00 2.485460e+05 2.574860e+05 0.000000e+00\n 0.000000e+00 2.885420e+05 2.516540e+05 2.885580e+05 6.374400e+04\n 0.000000e+00 3.570910e+05 2.714420e+05 0.000000e+00 0.000000e+00\n 3.041100e+05 0.000000e+00 1.879220e+05 0.000000e+00 2.136250e+05\n 2.492010e+05 0.000000e+00 2.313300e+05 0.000000e+00 1.822450e+05\n 0.000000e+00 2.117880e+05 0.000000e+00 0.000000e+00 0.000000e+00\n 2.243050e+05 2.737460e+05 3.392880e+05 2.165820e+05 2.105000e+05\n 0.000000e+00 0.000000e+00 2.728800e+05 4.770000e+02 0.000000e+00\n 2.690760e+05 4.287800e+05 2.118440e+05 0.000000e+00 2.061210e+05\n 1.742460e+05 5.103640e+05 3.650380e+05 0.000000e+00 3.651630e+05\n 1.627790e+05 0.000000e+00 2.364570e+05 0.000000e+00 2.615160e+05\n 3.290780e+05 0.000000e+00 1.848990e+05 1.920080e+05 0.000000e+00\n 2.626630e+05 3.045880e+05 0.000000e+00 0.000000e+00 2.786010e+05\n 0.000000e+00 1.991570e+05 0.000000e+00 9.684000e+04 8.081800e+04\n 2.139990e+05 2.627880e+05 2.106920e+05 2.220930e+05 4.406980e+05\n 0.000000e+00 2.401890e+05 4.206360e+05 2.751010e+05 0.000000e+00\n 3.142880e+05 9.494100e+04 0.000000e+00 2.395020e+05 0.000000e+00\n 0.000000e+00 0.000000e+00 6.615000e+03 2.885890e+05 4.043380e+05\n 0.000000e+00 2.599960e+05 3.175430e+05 0.000000e+00 2.019550e+05\n 2.481460e+05 0.000000e+00 0.000000e+00 0.000000e+00 2.634130e+05\n 0.000000e+00 7.639900e+04 6.550370e+05 0.000000e+00 2.618090e+05\n 2.480170e+05 0.000000e+00 2.292840e+05 2.319460e+05 2.210030e+05\n 1.584030e+05 0.000000e+00 2.501000e+05 4.923750e+05 1.060932e+06\n 2.618790e+05 0.000000e+00 2.396710e+05 0.000000e+00 0.000000e+00\n 0.000000e+00 3.099460e+05 0.000000e+00 8.527400e+04 2.473380e+05\n 3.494870e+05 3.305460e+05 0.000000e+00 4.151890e+05 2.652140e+05\n 2.786010e+05 2.749750e+05].\nReshape your data either using array.reshape(-1, 1) if your data has a single feature or array.reshape(1, -1) if it contains a single sample."
     ]
    }
   ],
   "source": [
    "scaler = sklearn.preprocessing.MinMaxScaler(feature_range=(0, 100), copy=True)\n",
    "salary_scaled = scaler.fit_transform(enron_df['salary'])"
   ]
  },
  {
   "cell_type": "markdown",
   "metadata": {},
   "source": [
    "### End of Project 3\n",
    "<hr> </hr>"
   ]
  },
  {
   "cell_type": "markdown",
   "metadata": {},
   "source": [
    "## Picking and Tuning an Algorithm:"
   ]
  },
  {
   "cell_type": "markdown",
   "metadata": {},
   "source": [
    "I will be using several types of Algorithms and compare their performance. The more performant one will be ised in the final analysis. "
   ]
  },
  {
   "cell_type": "code",
   "execution_count": 44,
   "metadata": {},
   "outputs": [
    {
     "name": "stdout",
     "output_type": "stream",
     "text": [
      "[0.83333333 0.89361702 0.85106383]\n",
      "GaussianNB mean score: 0.859338061465721\n",
      "[0.875      0.89361702 0.89361702]\n",
      "SVC mean score: 0.8874113475177304\n",
      "[0.875      0.89361702 0.87234043]\n",
      "RandomForestClassifier mean score: 0.8803191489361701\n",
      "[0.83333333 0.91489362 0.87234043]\n",
      "ExtraTressClassifier mean score: 0.8735224586288416\n"
     ]
    },
    {
     "name": "stderr",
     "output_type": "stream",
     "text": [
      "C:\\Users\\Geekquad\\Anaconda3\\lib\\site-packages\\sklearn\\ensemble\\weight_boosting.py:29: DeprecationWarning: numpy.core.umath_tests is an internal NumPy module and should not be imported. It will be removed in a future NumPy release.\n",
      "  from numpy.core.umath_tests import inner1d\n"
     ]
    },
    {
     "name": "stdout",
     "output_type": "stream",
     "text": [
      "[0.85416667 0.80851064 0.82978723]\n",
      "AdaBoostClassifier mean score: 0.8308215130023641\n",
      "[0.75       0.78723404 0.78723404]\n",
      "Logistic Regression mean score: 0.774822695035461\n",
      "[0.35416667 0.89361702 0.89361702]\n",
      "Linear SVC mean score: 0.7138002364066193\n"
     ]
    }
   ],
   "source": [
    "#GaussianNB\n",
    "from sklearn.naive_bayes import GaussianNB\n",
    "gnb_clf = GaussianNB()\n",
    "scores = sklearn.cross_validation.cross_val_score(gnb_clf, enron_df[predictors_8], labels)\n",
    "print(scores)\n",
    "print('GaussianNB mean score:', scores.mean())\n",
    "\n",
    "#Support Vector Machines\n",
    "from sklearn.svm import SVC\n",
    "svc_clf = SVC()\n",
    "scores = sklearn.cross_validation.cross_val_score(svc_clf, enron_df[predictors_8], labels)\n",
    "print(scores)\n",
    "print('SVC mean score:', scores.mean())\n",
    "\n",
    "#Random Forest Classifier\n",
    "from sklearn.ensemble import RandomForestClassifier\n",
    "rf_clf = RandomForestClassifier()\n",
    "scores = sklearn.cross_validation.cross_val_score(rf_clf, enron_df[predictors_8], labels)\n",
    "print(scores)\n",
    "print('RandomForestClassifier mean score:' ,scores.mean())\n",
    "\n",
    "#Extra Tree Classifier\n",
    "from sklearn.ensemble import ExtraTreesClassifier\n",
    "erf_clf = ExtraTreesClassifier(n_estimators=10, max_depth=None, min_samples_split=2, random_state=0)\n",
    "scores = sklearn.cross_validation.cross_val_score(erf_clf, enron_df[predictors_8], labels)\n",
    "print(scores)\n",
    "print('ExtraTressClassifier mean score:', scores.mean())\n",
    "\n",
    "#AdaBoost Classifier\n",
    "from sklearn.ensemble import AdaBoostClassifier\n",
    "adb_clf = AdaBoostClassifier(n_estimators=100)\n",
    "scores = sklearn.cross_validation.cross_val_score(adb_clf, enron_df[predictors_8], labels)\n",
    "print(scores)\n",
    "print('AdaBoostClassifier mean score:', scores.mean())\n",
    "\n",
    "#Logistic Regression\n",
    "from sklearn.linear_model import LogisticRegression\n",
    "lreg_clf = LogisticRegression()\n",
    "scores = sklearn.cross_validation.cross_val_score(lreg_clf, enron_df[predictors_8], labels)\n",
    "print(scores)\n",
    "print('Logistic Regression mean score:', scores.mean())\n",
    "\n",
    "#Linear SVC\n",
    "from sklearn.svm import LinearSVC\n",
    "lsvc_clf = LinearSVC()\n",
    "scores = sklearn.cross_validation.cross_val_score(lsvc_clf, enron_df[predictors_8], labels)\n",
    "print(scores)\n",
    "print('Linear SVC mean score:', scores.mean())"
   ]
  },
  {
   "cell_type": "markdown",
   "metadata": {},
   "source": [
    "### Comparing Classifiers based on cross-validation scores:\n",
    "- **1st tier:** SVC, RandomForestClassifier\n",
    "- **2nd tier:** GaussianNB, ExtraTreesClassifier, AdaBoostClassifier\n",
    "- **3rd tier:** Logistic Regression, LinearSVC\n",
    "<hr> </hr>"
   ]
  },
  {
   "cell_type": "markdown",
   "metadata": {},
   "source": [
    "### Univariate Feature Selection with F-test for Feature Scoring\n",
    "Using the default selection function: the 10% most significant features"
   ]
  },
  {
   "cell_type": "code",
   "execution_count": 45,
   "metadata": {},
   "outputs": [
    {
     "data": {
      "text/plain": [
       "<Container object of 13 artists>"
      ]
     },
     "execution_count": 45,
     "metadata": {},
     "output_type": "execute_result"
    },
    {
     "data": {
      "image/png": "[encoded data removed]",
      "text/plain": [
       "<matplotlib.figure.Figure at 0x1e45865c978>"
      ]
     },
     "metadata": {
      "needs_background": "light"
     },
     "output_type": "display_data"
    }
   ],
   "source": [
    "from sklearn.feature_selection import SelectPercentile, f_classif\n",
    "\n",
    "selector = SelectPercentile(f_classif, percentile=10)\n",
    "selector.fit(features, labels)\n",
    "scores = -np.log(selector.pvalues_)\n",
    "scores /= scores.max()\n",
    "\n",
    "X_indices = np.arange(features.shape[-1])\n",
    "plt.bar(X_indices - .45, scores, width=.2,label=r'Univariate score ($-Log(p_[value])&)', color='green')"
   ]
  },
  {
   "cell_type": "code",
   "execution_count": null,
   "metadata": {},
   "outputs": [],
   "source": [
    "from sklearn.pipeline import Pipeline, FeatureUnion\n",
    "from sklearn.model_selection import GridSearchCV\n",
    "from sklearn.svm import SVC\n",
    "from sklearn.decomposition import PCA\n",
    "from sklearn.feature_selection import SelectKBest\n",
    "\n",
    "pca = PCA(n_components=8)\n",
    "selection = SelectKBest(k=4)\n",
    "\n",
    "#Building an estimator from PCA and Univariate selection:\n",
    "combined_features = FeatureUnion([(\"pca\", pca), (\"univ_select\", selection)])\n",
    "\n",
    "#Using combined features to transform dataset:\n",
    "X_features = combined_features.fit(features, labels).transform(features)\n",
    "\n",
    "svm = SVC(kernel=\"linear\")\n",
    "pipeline = Pipeline([(\"features\", combined_features), (\"svm\", svm)])\n",
    "\n",
    "param_grid = dict(features__pca__n_components=[1, 2, 3],\n",
    "                  features__univ_select__k=[1, 2],\n",
    "                  svm__C=[0.1, 1, 10])\n",
    "\n",
    "grid_search = GridSearchCV(pipeline, param_grid=param_grid, verbose=10)\n",
    "grid_search.fit(features, labels)\n",
    "print(grid_search.best_estimator_)"
   ]
  },
  {
   "cell_type": "markdown",
   "metadata": {},
   "source": [
    "### Creating a pipeline that extracts features from the data using PCA and SelectKBest and then creates a model_SVC "
   ]
  },
  {
   "cell_type": "code",
   "execution_count": 46,
   "metadata": {},
   "outputs": [
    {
     "name": "stdout",
     "output_type": "stream",
     "text": [
      "Pipeline(memory=None,\n",
      "     steps=[('feature_union', FeatureUnion(n_jobs=1,\n",
      "       transformer_list=[('pca', PCA(copy=True, iterated_power='auto', n_components=4, random_state=None,\n",
      "  svd_solver='auto', tol=0.0, whiten=False)), ('select_best', SelectKBest(k=8, score_func=<function f_classif at 0x000001E4545E7510>))],\n",
      "       tr...,\n",
      "  max_iter=-1, probability=False, random_state=None, shrinking=True,\n",
      "  tol=0.001, verbose=False))])\n"
     ]
    }
   ],
   "source": [
    "from pandas import read_csv\n",
    "from sklearn.model_selection import KFold\n",
    "from sklearn.model_selection import cross_val_score\n",
    "from sklearn.pipeline import Pipeline\n",
    "from sklearn.pipeline import FeatureUnion\n",
    "from sklearn.linear_model import LogisticRegression\n",
    "from sklearn.decomposition import PCA\n",
    "from sklearn.feature_selection import SelectKBest\n",
    "from sklearn.svm import SVC\n",
    "from sklearn.grid_search import GridSearchCV\n",
    "\n",
    "#Creating feature union\n",
    "features_pipeline = []\n",
    "features_pipeline.append(('pca', PCA(n_components=4)))\n",
    "features_pipeline.append(('select_best', SelectKBest(k=8)))\n",
    "feature_union = FeatureUnion(features_pipeline)\n",
    "\n",
    "#Creating a pipeline for rbfSVC\n",
    "estimators = []\n",
    "estimators.append(('feature_union', feature_union))\n",
    "#estimators.append(('logistic', LogisticRegression()))\n",
    "estimators.append(('svc', SVC(kernel='rbf', class_weight='balanced')))\n",
    "model_svc = Pipeline(estimators)\n",
    "\n",
    "param_grid = {\n",
    "            'svc__C': [1e3, 5e3, 1e4, 5e4, 1e5],\n",
    "            'svc__gamma': [0.0001, 0.0005, 0.001, 0.005, 0.01, 0.1 ],\n",
    "            'svc__degree': [1, 2, 3, 4, 5]\n",
    "}\n",
    "\n",
    "grid_svc = GridSearchCV(model_svc, param_grid)\n",
    "grid_svc = grid_svc.fit(features, labels)\n",
    "print(grid_svc.best_estimator_)"
   ]
  },
  {
   "cell_type": "code",
   "execution_count": 47,
   "metadata": {},
   "outputs": [
    {
     "name": "stdout",
     "output_type": "stream",
     "text": [
      "rbfSVC mean score: 0.8866666666666667\n"
     ]
    }
   ],
   "source": [
    "best_svc_pipe = grid_svc.best_estimator_ \n",
    "\n",
    "#Evaluating pipeline for rbfSVC\n",
    "seed = 7\n",
    "kfold = KFold(n_splits=10, random_state=seed)\n",
    "scores_svc = cross_val_score(model_svc, enron_df[predictors], labels, cv=kfold)\n",
    "print('rbfSVC mean score:', scores_svc.mean())"
   ]
  },
  {
   "cell_type": "markdown",
   "metadata": {},
   "source": [
    "### Creating Pipeline for RandomForest:"
   ]
  },
  {
   "cell_type": "code",
   "execution_count": 48,
   "metadata": {},
   "outputs": [
    {
     "name": "stdout",
     "output_type": "stream",
     "text": [
      "['RandomForest', 'RandomForest__bootstrap', 'RandomForest__class_weight', 'RandomForest__criterion', 'RandomForest__max_depth', 'RandomForest__max_features', 'RandomForest__max_leaf_nodes', 'RandomForest__min_impurity_decrease', 'RandomForest__min_impurity_split', 'RandomForest__min_samples_leaf', 'RandomForest__min_samples_split', 'RandomForest__min_weight_fraction_leaf', 'RandomForest__n_estimators', 'RandomForest__n_jobs', 'RandomForest__oob_score', 'RandomForest__random_state', 'RandomForest__verbose', 'RandomForest__warm_start', 'feature_union', 'feature_union__n_jobs', 'feature_union__pca', 'feature_union__pca__copy', 'feature_union__pca__iterated_power', 'feature_union__pca__n_components', 'feature_union__pca__random_state', 'feature_union__pca__svd_solver', 'feature_union__pca__tol', 'feature_union__pca__whiten', 'feature_union__select_best', 'feature_union__select_best__k', 'feature_union__select_best__score_func', 'feature_union__transformer_list', 'feature_union__transformer_weights', 'memory', 'steps']\n"
     ]
    }
   ],
   "source": [
    "from sklearn.ensemble import RandomForestClassifier\n",
    "estimators = []\n",
    "estimators.append(('feature_union', feature_union))\n",
    "estimators.append(('RandomForest', RandomForestClassifier()))\n",
    "model_rf = Pipeline(estimators)\n",
    "print(sorted(model_rf.get_params().keys()))\n"
   ]
  },
  {
   "cell_type": "code",
   "execution_count": 49,
   "metadata": {
    "scrolled": true
   },
   "outputs": [
    {
     "name": "stdout",
     "output_type": "stream",
     "text": [
      "Pipeline(memory=None,\n",
      "     steps=[('feature_union', FeatureUnion(n_jobs=1,\n",
      "       transformer_list=[('pca', PCA(copy=True, iterated_power='auto', n_components=4, random_state=None,\n",
      "  svd_solver='auto', tol=0.0, whiten=False)), ('select_best', SelectKBest(k=8, score_func=<function f_classif at 0x000001E4545E7510>))],\n",
      "       tr...n_jobs=1,\n",
      "            oob_score=False, random_state=None, verbose=0,\n",
      "            warm_start=False))])\n",
      "RandomForest mean score: 0.8376190476190477\n"
     ]
    }
   ],
   "source": [
    "\"\"\"Finding the best fitting parameter\"\"\"\n",
    "param_grid = {'RandomForest__n_estimators': [10,20,30,40,50],\n",
    "               'RandomForest__min_samples_split' :[2,3,4,5],\n",
    "               'RandomForest__min_samples_leaf' : [1,2,3]\n",
    "             }\n",
    "\n",
    "grid_rf = GridSearchCV(model_rf, param_grid)\n",
    "grid_rf = grid_rf.fit(features, labels)\n",
    "print(grid_rf.best_estimator_)\n",
    "\n",
    "#Best fitting svc_clf\n",
    "best_rf_pipe = grid_rf.best_estimator_ \n",
    "\n",
    "\n",
    "#Evaluating pipeline for rf\n",
    "seed = 7\n",
    "kfold = KFold(n_splits=10, random_state=seed)\n",
    "scores_rf = cross_val_score(model_rf, enron_df[predictors], labels, cv=kfold)\n",
    "print('RandomForest mean score:', scores_rf.mean())"
   ]
  },
  {
   "cell_type": "markdown",
   "metadata": {},
   "source": [
    "### Finding best fit parameter for SVM(kernel='rbf') with PCA and cross validation:"
   ]
  },
  {
   "cell_type": "code",
   "execution_count": 50,
   "metadata": {},
   "outputs": [
    {
     "name": "stdout",
     "output_type": "stream",
     "text": [
      "features_transformed[0]: [-2506859.0949976    293144.67073684    57877.13636437   198705.96409751]\n",
      "features_pca[0]: [2.49554034e-02 6.25367378e-01 8.39959560e-04 1.10822385e-06\n",
      " 4.25848400e-07 1.44191017e-01 7.10858298e-03 9.51787674e-06\n",
      " 7.66453249e-01 5.17628083e-09 2.08830520e-08 1.04464719e-08\n",
      " 8.33085929e-07]\n"
     ]
    }
   ],
   "source": [
    "from sklearn.decomposition import PCA\n",
    "from sklearn.grid_search import GridSearchCV\n",
    "\n",
    "pca = PCA(n_components = 4).fit(features)\n",
    "features_transformed = pca.transform(features)\n",
    "features_pca = pca.components_\n",
    "\n",
    "print('features_transformed[0]:', features_transformed[0])\n",
    "print('features_pca[0]:', features_pca[0])"
   ]
  },
  {
   "cell_type": "code",
   "execution_count": 51,
   "metadata": {},
   "outputs": [
    {
     "name": "stdout",
     "output_type": "stream",
     "text": [
      "SVC(C=1000.0, cache_size=200, class_weight='balanced', coef0=0.0,\n",
      "  decision_function_shape='ovr', degree=1, gamma=0.0001, kernel='rbf',\n",
      "  max_iter=-1, probability=False, random_state=None, shrinking=True,\n",
      "  tol=0.001, verbose=False)\n"
     ]
    }
   ],
   "source": [
    "#Training a SVM Classification Model\n",
    "\n",
    "param_grid = {\n",
    "             'C': [1e3, 5e3, 1e4, 5e4, 1e5], \n",
    "             'gamma': [0.0001, 0.0005, 0.001, 0.005, 0.01, 0.1],\n",
    "             'degree': [1,2,3,4,5]}\n",
    "clf = GridSearchCV(SVC(kernel='rbf', class_weight='balanced'), param_grid)\n",
    "clf = clf.fit(features_transformed, labels)\n",
    "pred_svc = clf.predict(features_transformed)\n",
    "\n",
    "print(clf.best_estimator_)\n",
    "best_svc_clf = clf.best_estimator_"
   ]
  },
  {
   "cell_type": "code",
   "execution_count": 52,
   "metadata": {},
   "outputs": [
    {
     "name": "stdout",
     "output_type": "stream",
     "text": [
      "SVC after PCA mean score: 0.8874113475177304\n"
     ]
    }
   ],
   "source": [
    "scores = sklearn.cross_validation.cross_val_score(best_svc_clf, features, labels)\n",
    "print('SVC after PCA mean score:', scores.mean())"
   ]
  },
  {
   "cell_type": "code",
   "execution_count": 53,
   "metadata": {},
   "outputs": [
    {
     "name": "stdout",
     "output_type": "stream",
     "text": [
      "[0 0 0 0 1 0 0 0 0 0 0 0 0 0 0 0 1 0 0 0 0 0 0 0 0 0 0 0 0 0 1 0 0 0 0 0 0\n",
      " 0 0 0 1 0 0 0 0 0 0 0 0 0 0 0 1 0 0 0 0 0 0 1 0 0 0 0 0 0 0 0 0 0 0 0 0 0\n",
      " 1 0 0 0 0 0 1 0 0 0 1 0 1 1 0 0 0 0 0 0 0 0 0 0 0 0 0 0 0 0 0 0 0 0 0 0 0\n",
      " 0 0 0 0 0 0 0 0 0 1 1 0 0 0 0 0 0 0 0 0 1 0 0 0 0 0 0 1 0 0 1]\n"
     ]
    }
   ],
   "source": [
    "pred_svc = SVC(C=1000.0, cache_size=200, class_weight='balanced', coef0=0.0,\n",
    "  decision_function_shape=None, degree=1, gamma=0.0001, kernel='rbf',\n",
    "  max_iter=-1, probability=False, random_state=None, shrinking=True,\n",
    "  tol=0.001, verbose=False).fit(features_transformed, labels).predict(features_transformed)\n",
    "\n",
    "print(pred_svc)"
   ]
  },
  {
   "cell_type": "code",
   "execution_count": 54,
   "metadata": {},
   "outputs": [
    {
     "name": "stdout",
     "output_type": "stream",
     "text": [
      "RandomForest mean score: 0.8874113475177304\n"
     ]
    }
   ],
   "source": [
    "\"\"\"Getting the best-fit parameters for RandomForest\"\"\"\n",
    "pca = PCA(n_components = 8).fit(features)\n",
    "features_pca = pca.transform(features)\n",
    "cv = KFold(n_splits=5)\n",
    "\n",
    "parameters = {'n_estimators': [10,20,30,40,50],\n",
    "               'min_samples_split' :[2,3,4,5],\n",
    "               'min_samples_leaf' : [1,2,3]\n",
    "             }\n",
    "\n",
    "rf_clf = RandomForestClassifier()\n",
    "grid_obj = GridSearchCV(rf_clf, parameters)\n",
    "grid_fit = grid_obj.fit(features_pca, labels)\n",
    "\n",
    "best_rf_clf = grid_fit.best_estimator_ \n",
    "best_rf_clf.fit(features,labels)\n",
    "\n",
    "scores = sklearn.cross_validation.cross_val_score(clf, features, labels)\n",
    "print('RandomForest mean score:', scores.mean())"
   ]
  },
  {
   "cell_type": "markdown",
   "metadata": {},
   "source": [
    "### End of Project 4\n",
    "<hr> </hr>"
   ]
  },
  {
   "cell_type": "markdown",
   "metadata": {},
   "source": [
    "## Validation and Evaluation:"
   ]
  },
  {
   "cell_type": "markdown",
   "metadata": {},
   "source": [
    "Validation is the processed of checking to see how your model performs on unseen data."
   ]
  },
  {
   "cell_type": "code",
   "execution_count": 56,
   "metadata": {},
   "outputs": [],
   "source": [
    "from sklearn.cross_validation import train_test_split\n",
    "features_train, features_test, labels_train, labels_test = train_test_split(features_transformed, labels, test_size=0.3, random_state=42)"
   ]
  },
  {
   "cell_type": "code",
   "execution_count": 57,
   "metadata": {},
   "outputs": [],
   "source": [
    "from sklearn.metrics import accuracy_score\n",
    "from sklearn.metrics import precision_score\n",
    "from sklearn.metrics import recall_score"
   ]
  },
  {
   "cell_type": "code",
   "execution_count": 58,
   "metadata": {},
   "outputs": [
    {
     "name": "stdout",
     "output_type": "stream",
     "text": [
      "[-2506859.0949976    293144.67073684    57877.13636437   198705.96409751]\n"
     ]
    },
    {
     "data": {
      "text/plain": [
       "False"
      ]
     },
     "execution_count": 58,
     "metadata": {},
     "output_type": "execute_result"
    }
   ],
   "source": [
    "print(features_transformed[0])\n",
    "enron_df['poi'].tolist()[0]"
   ]
  },
  {
   "cell_type": "markdown",
   "metadata": {},
   "source": [
    "#### Preparing parameters from dumping the classifier"
   ]
  },
  {
   "cell_type": "code",
   "execution_count": 77,
   "metadata": {},
   "outputs": [
    {
     "name": "stdout",
     "output_type": "stream",
     "text": [
      "OrderedDict([('poi', False), ('comp_1', -2506859.0949976), ('comp_2', 293144.67073684005), ('comp_3', 57877.136364365026), ('comp_4', 198705.96409751067)])\n"
     ]
    }
   ],
   "source": [
    "import collections\n",
    "from collections import OrderedDict\n",
    "clf_dump = best_svc_clf\n",
    "\n",
    "\n",
    "features_list = ['comp_1', 'comp_2', 'comp_3', 'comp_4']\n",
    "poi_list = enron_df['poi'].tolist()\n",
    "data_list = features_transformed\n",
    "\n",
    "my_dataset = {}\n",
    "\n",
    "i = 0\n",
    "for item in data_list:\n",
    "    ele_dict = OrderedDict()\n",
    "    ele_dict['poi'] = poi_list[i]\n",
    "    for j in range(len(features_list)):\n",
    "        ele_dict[features_list[j]] = data_list[i][j]\n",
    "    my_dataset[i] = ele_dict\n",
    "    i += 1\n",
    "print(my_dataset[0])"
   ]
  },
  {
   "cell_type": "code",
   "execution_count": 78,
   "metadata": {},
   "outputs": [
    {
     "name": "stdout",
     "output_type": "stream",
     "text": [
      "## Validating algorithm ##\n",
      "Accuracy after tuning =  1.0\n",
      "Precision = 1.0\n",
      "Recall =  1.0\n"
     ]
    }
   ],
   "source": [
    "pred = best_svc_clf.predict(features_test)\n",
    "acc = accuracy_score(labels_test, pred)\n",
    "\n",
    "print(\"## Validating algorithm ##\")\n",
    "print(\"Accuracy after tuning = \", acc)\n",
    "print(\"Precision =\", precision_score(labels_test, pred))\n",
    "print(\"Recall = \", recall_score(labels_test, pred))\n"
   ]
  },
  {
   "cell_type": "code",
   "execution_count": 79,
   "metadata": {},
   "outputs": [
    {
     "name": "stdout",
     "output_type": "stream",
     "text": [
      "odict_keys(['poi', 'comp_1', 'comp_2', 'comp_3', 'comp_4'])\n"
     ]
    }
   ],
   "source": [
    "print(my_dataset[0].keys())"
   ]
  },
  {
   "cell_type": "markdown",
   "metadata": {},
   "source": [
    "### End of Project 4\n",
    "<hr> </hr>"
   ]
  },
  {
   "cell_type": "code",
   "execution_count": null,
   "metadata": {},
   "outputs": [],
   "source": []
  }
 ],
 "metadata": {
  "kernelspec": {
   "display_name": "Python 3",
   "language": "python",
   "name": "python3"
  },
  "language_info": {
   "codemirror_mode": {
    "name": "ipython",
    "version": 3
   },
   "file_extension": ".py",
   "mimetype": "text/x-python",
   "name": "python",
   "nbconvert_exporter": "python",
   "pygments_lexer": "ipython3",
   "version": "3.6.4"
  }
 },
 "nbformat": 4,
 "nbformat_minor": 2
}
